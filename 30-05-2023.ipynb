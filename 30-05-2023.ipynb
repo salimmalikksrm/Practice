{
 "cells": [
  {
   "cell_type": "markdown",
   "id": "b48b8181",
   "metadata": {},
   "source": [
    "# List Comprehension"
   ]
  },
  {
   "cell_type": "code",
   "execution_count": 1,
   "id": "e28580a7",
   "metadata": {},
   "outputs": [
    {
     "name": "stdout",
     "output_type": "stream",
     "text": [
      "['apple', 'banana', 'mango']\n"
     ]
    }
   ],
   "source": [
    "#basic method\n",
    "\n",
    "fruits = ['apple','banana','cherry','kiwi','mango']\n",
    "\n",
    "newlist = []\n",
    "\n",
    "for i in fruits:\n",
    "    if 'a' in i:\n",
    "        newlist.append(i)\n",
    "        \n",
    "print(newlist)"
   ]
  },
  {
   "cell_type": "markdown",
   "id": "afcc0b71",
   "metadata": {},
   "source": [
    "# Syntax\n",
    "\n",
    "newlist = [expression for item in iterable if condition == True]\n",
    "\n",
    "condition is optional"
   ]
  },
  {
   "cell_type": "code",
   "execution_count": 3,
   "id": "22377dcc",
   "metadata": {},
   "outputs": [
    {
     "name": "stdout",
     "output_type": "stream",
     "text": [
      "['apple', 'banana', 'mango']\n"
     ]
    }
   ],
   "source": [
    "#using list comprehension\n",
    "\n",
    "fruits = ['apple','banana','cherry','kiwi','mango']\n",
    "\n",
    "newlist = [i for i in fruits if 'a' in i]\n",
    "\n",
    "print(newlist)"
   ]
  },
  {
   "cell_type": "code",
   "execution_count": 4,
   "id": "0f1b86e4",
   "metadata": {},
   "outputs": [
    {
     "name": "stdout",
     "output_type": "stream",
     "text": [
      "['banana', 'cherry', 'kiwi', 'mango']\n"
     ]
    }
   ],
   "source": [
    "newlist = [x for x in fruits if x != \"apple\"]\n",
    "\n",
    "print(newlist)"
   ]
  },
  {
   "cell_type": "code",
   "execution_count": 17,
   "id": "cc5e66da",
   "metadata": {},
   "outputs": [
    {
     "name": "stdout",
     "output_type": "stream",
     "text": [
      "original ['apple', 'banana', 'cherry', 'kiwi', 'mango'] 2406132503040\n",
      "copy ['apple', 'banana', 'cherry', 'kiwi', 'mango'] 2406132372672\n",
      "original ['apple', 'banana', 'cherry', 'kiwi', 'mango']\n",
      "copy ['apple', 'Papaya', 'cherry', 'kiwi', 'mango']\n"
     ]
    }
   ],
   "source": [
    "#My analysis deep copy and shallow copy\n",
    "\n",
    "fruits = ['apple','banana','cherry','kiwi','mango']\n",
    "\n",
    "\n",
    "fruitsCopy = fruits.copy()\n",
    "\n",
    "print('original',fruits,id(fruits))\n",
    "print('copy',fruitsCopy,id(fruitsCopy))\n",
    "\n",
    "fruitsCopy[1] = 'Papaya'\n",
    "\n",
    "print('original',fruits)\n",
    "print('copy',fruitsCopy)"
   ]
  },
  {
   "cell_type": "code",
   "execution_count": 18,
   "id": "128e537d",
   "metadata": {},
   "outputs": [
    {
     "name": "stdout",
     "output_type": "stream",
     "text": [
      "[0, 1, 2, 3, 4, 5, 6, 7, 8, 9]\n"
     ]
    }
   ],
   "source": [
    "newlist = [x for x in range(10)]\n",
    "\n",
    "print(newlist)"
   ]
  },
  {
   "cell_type": "code",
   "execution_count": 19,
   "id": "126492b5",
   "metadata": {},
   "outputs": [
    {
     "name": "stdout",
     "output_type": "stream",
     "text": [
      "[0, 1, 2, 3, 4, 5]\n"
     ]
    }
   ],
   "source": [
    "newlist = [x for x in range(10) if x <= 5 ]\n",
    "\n",
    "print(newlist)"
   ]
  },
  {
   "cell_type": "code",
   "execution_count": 20,
   "id": "f495b5fb",
   "metadata": {},
   "outputs": [
    {
     "name": "stdout",
     "output_type": "stream",
     "text": [
      "['APPLE', 'BANANA', 'CHERRY', 'KIWI', 'MANGO']\n"
     ]
    }
   ],
   "source": [
    "fruits = ['apple','banana','cherry','kiwi','mango']\n",
    "\n",
    "newlist = [x.upper() for x in fruits]\n",
    "\n",
    "print(newlist)"
   ]
  },
  {
   "cell_type": "code",
   "execution_count": 21,
   "id": "f482b285",
   "metadata": {},
   "outputs": [
    {
     "name": "stdout",
     "output_type": "stream",
     "text": [
      "['hello', 'hello', 'hello', 'hello', 'hello']\n"
     ]
    }
   ],
   "source": [
    "newlist = ['hello' for x in fruits]\n",
    "\n",
    "print(newlist)"
   ]
  },
  {
   "cell_type": "code",
   "execution_count": 23,
   "id": "00ef8e6c",
   "metadata": {},
   "outputs": [
    {
     "name": "stdout",
     "output_type": "stream",
     "text": [
      "['apple', 'orange', 'cherry', 'kiwi', 'mango']\n"
     ]
    }
   ],
   "source": [
    "# fruits = ['apple','banana','cherry','kiwi','mango']\n",
    "\n",
    "# newlist = [x if x != 'banana' else 'orange' for x in fruits]\n",
    "\n",
    "# print(newlist)"
   ]
  },
  {
   "cell_type": "code",
   "execution_count": 26,
   "id": "a775d65f",
   "metadata": {},
   "outputs": [
    {
     "name": "stdout",
     "output_type": "stream",
     "text": [
      "['apple', 'cherry', 'kiwi', 'mango']\n"
     ]
    }
   ],
   "source": [
    "# fruits = ['apple','banana','cherry','kiwi','mango']\n",
    "\n",
    "# newlist = [x for x in fruits if x != 'banana']\n",
    "\n",
    "# print(newlist)"
   ]
  },
  {
   "cell_type": "code",
   "execution_count": null,
   "id": "09deabaa",
   "metadata": {},
   "outputs": [],
   "source": []
  }
 ],
 "metadata": {
  "kernelspec": {
   "display_name": "Python 3 (ipykernel)",
   "language": "python",
   "name": "python3"
  },
  "language_info": {
   "codemirror_mode": {
    "name": "ipython",
    "version": 3
   },
   "file_extension": ".py",
   "mimetype": "text/x-python",
   "name": "python",
   "nbconvert_exporter": "python",
   "pygments_lexer": "ipython3",
   "version": "3.9.12"
  }
 },
 "nbformat": 4,
 "nbformat_minor": 5
}
