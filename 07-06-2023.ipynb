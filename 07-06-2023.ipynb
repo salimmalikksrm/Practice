{
 "cells": [
  {
   "cell_type": "code",
   "execution_count": 2,
   "id": "a8c60d3f",
   "metadata": {},
   "outputs": [],
   "source": [
    "list1 = [1,2,3,4,'str','BLR']"
   ]
  },
  {
   "cell_type": "code",
   "execution_count": 3,
   "id": "48299f7a",
   "metadata": {},
   "outputs": [],
   "source": [
    "list1.remove('str')"
   ]
  },
  {
   "cell_type": "code",
   "execution_count": 4,
   "id": "b190af19",
   "metadata": {},
   "outputs": [
    {
     "data": {
      "text/plain": [
       "[1, 2, 3, 4, 'BLR']"
      ]
     },
     "execution_count": 4,
     "metadata": {},
     "output_type": "execute_result"
    }
   ],
   "source": [
    "list1"
   ]
  },
  {
   "cell_type": "markdown",
   "id": "e71a96a6",
   "metadata": {},
   "source": [
    "# Sets"
   ]
  },
  {
   "cell_type": "code",
   "execution_count": 9,
   "id": "7f214a24",
   "metadata": {},
   "outputs": [],
   "source": [
    "a = {3,3,3,3,4,5,6,6,4}"
   ]
  },
  {
   "cell_type": "code",
   "execution_count": 10,
   "id": "ffd0ce5a",
   "metadata": {},
   "outputs": [
    {
     "data": {
      "text/plain": [
       "set"
      ]
     },
     "execution_count": 10,
     "metadata": {},
     "output_type": "execute_result"
    }
   ],
   "source": [
    "type(a)"
   ]
  },
  {
   "cell_type": "code",
   "execution_count": 11,
   "id": "bc4fdc3c",
   "metadata": {},
   "outputs": [
    {
     "data": {
      "text/plain": [
       "{3, 4, 5, 6}"
      ]
     },
     "execution_count": 11,
     "metadata": {},
     "output_type": "execute_result"
    }
   ],
   "source": [
    "a"
   ]
  },
  {
   "cell_type": "code",
   "execution_count": 17,
   "id": "e7a12b6c",
   "metadata": {},
   "outputs": [],
   "source": [
    "set1 = {'text',78,98.5,True,(3,4)}"
   ]
  },
  {
   "cell_type": "code",
   "execution_count": 18,
   "id": "fd7eb3d6",
   "metadata": {},
   "outputs": [],
   "source": [
    "set2 = set()"
   ]
  },
  {
   "cell_type": "code",
   "execution_count": 19,
   "id": "87a92aa3",
   "metadata": {},
   "outputs": [
    {
     "name": "stdout",
     "output_type": "stream",
     "text": [
      "<class 'set'>\n",
      "<class 'set'>\n"
     ]
    }
   ],
   "source": [
    "print(type(set1))\n",
    "print(type(set2))"
   ]
  },
  {
   "cell_type": "code",
   "execution_count": 20,
   "id": "15a0510a",
   "metadata": {},
   "outputs": [
    {
     "data": {
      "text/plain": [
       "{(3, 4), 78, 98.5, True, 'text'}"
      ]
     },
     "execution_count": 20,
     "metadata": {},
     "output_type": "execute_result"
    }
   ],
   "source": [
    "set1"
   ]
  },
  {
   "cell_type": "code",
   "execution_count": 21,
   "id": "c1815bfb",
   "metadata": {},
   "outputs": [],
   "source": [
    "set1.add(50)"
   ]
  },
  {
   "cell_type": "code",
   "execution_count": 22,
   "id": "b80ca5c2",
   "metadata": {},
   "outputs": [
    {
     "data": {
      "text/plain": [
       "{(3, 4), 50, 78, 98.5, True, 'text'}"
      ]
     },
     "execution_count": 22,
     "metadata": {},
     "output_type": "execute_result"
    }
   ],
   "source": [
    "set1"
   ]
  },
  {
   "cell_type": "code",
   "execution_count": 26,
   "id": "bd38ec6d",
   "metadata": {},
   "outputs": [
    {
     "name": "stdout",
     "output_type": "stream",
     "text": [
      "True 98.5 50 (3, 4) text 78 "
     ]
    }
   ],
   "source": [
    "for i in set1:\n",
    "    print(i,end = \" \")"
   ]
  },
  {
   "cell_type": "markdown",
   "id": "7e34032f",
   "metadata": {},
   "source": [
    "# Dictionary"
   ]
  },
  {
   "cell_type": "code",
   "execution_count": 27,
   "id": "a80f5d5f",
   "metadata": {},
   "outputs": [],
   "source": [
    "first_dict = {'john':'travolta',\n",
    "              'kelly': 'Brook',\n",
    "              'id':[34,43]}"
   ]
  },
  {
   "cell_type": "code",
   "execution_count": 28,
   "id": "9d7f47ef",
   "metadata": {},
   "outputs": [
    {
     "data": {
      "text/plain": [
       "{'john': 'travolta', 'kelly': 'Brook', 'id': [34, 43]}"
      ]
     },
     "execution_count": 28,
     "metadata": {},
     "output_type": "execute_result"
    }
   ],
   "source": [
    "first_dict"
   ]
  },
  {
   "cell_type": "code",
   "execution_count": 30,
   "id": "9d8e8fa4",
   "metadata": {},
   "outputs": [
    {
     "data": {
      "text/plain": [
       "dict_keys(['john', 'kelly', 'id'])"
      ]
     },
     "execution_count": 30,
     "metadata": {},
     "output_type": "execute_result"
    }
   ],
   "source": [
    "first_dict.keys()"
   ]
  },
  {
   "cell_type": "code",
   "execution_count": 31,
   "id": "cdb8272d",
   "metadata": {},
   "outputs": [
    {
     "data": {
      "text/plain": [
       "dict_values(['travolta', 'Brook', [34, 43]])"
      ]
     },
     "execution_count": 31,
     "metadata": {},
     "output_type": "execute_result"
    }
   ],
   "source": [
    "first_dict.values()"
   ]
  },
  {
   "cell_type": "code",
   "execution_count": 32,
   "id": "8b77ac3c",
   "metadata": {},
   "outputs": [
    {
     "data": {
      "text/plain": [
       "dict_items([('john', 'travolta'), ('kelly', 'Brook'), ('id', [34, 43])])"
      ]
     },
     "execution_count": 32,
     "metadata": {},
     "output_type": "execute_result"
    }
   ],
   "source": [
    "first_dict.items()"
   ]
  },
  {
   "cell_type": "code",
   "execution_count": 33,
   "id": "734dfbce",
   "metadata": {},
   "outputs": [
    {
     "name": "stdout",
     "output_type": "stream",
     "text": [
      "john\n",
      "kelly\n",
      "id\n"
     ]
    }
   ],
   "source": [
    "for k,v in first_dict.items():\n",
    "    print(k)"
   ]
  },
  {
   "cell_type": "code",
   "execution_count": 34,
   "id": "e5a69ac1",
   "metadata": {},
   "outputs": [],
   "source": [
    "first_dict.update({'id':'id1'})"
   ]
  },
  {
   "cell_type": "code",
   "execution_count": 35,
   "id": "8f2d3ae0",
   "metadata": {},
   "outputs": [
    {
     "data": {
      "text/plain": [
       "{'john': 'travolta', 'kelly': 'Brook', 'id': 'id1'}"
      ]
     },
     "execution_count": 35,
     "metadata": {},
     "output_type": "execute_result"
    }
   ],
   "source": [
    "first_dict"
   ]
  },
  {
   "cell_type": "code",
   "execution_count": 36,
   "id": "6dd73e2c",
   "metadata": {},
   "outputs": [],
   "source": [
    "set1 ={1,2,3,4,5}"
   ]
  },
  {
   "cell_type": "code",
   "execution_count": 37,
   "id": "70f2347f",
   "metadata": {},
   "outputs": [],
   "source": [
    "set1.discard(3)"
   ]
  },
  {
   "cell_type": "code",
   "execution_count": 38,
   "id": "f36e46aa",
   "metadata": {},
   "outputs": [
    {
     "data": {
      "text/plain": [
       "{1, 2, 4, 5}"
      ]
     },
     "execution_count": 38,
     "metadata": {},
     "output_type": "execute_result"
    }
   ],
   "source": [
    "set1"
   ]
  },
  {
   "cell_type": "code",
   "execution_count": 39,
   "id": "48f645c7",
   "metadata": {},
   "outputs": [],
   "source": [
    "scores1 = [67,66,50,47]\n",
    "scores2 = [70,80,90,47]"
   ]
  },
  {
   "cell_type": "code",
   "execution_count": 40,
   "id": "8bc9baba",
   "metadata": {},
   "outputs": [
    {
     "data": {
      "text/plain": [
       "[67, 66, 50, 47, 70, 80, 90, 47]"
      ]
     },
     "execution_count": 40,
     "metadata": {},
     "output_type": "execute_result"
    }
   ],
   "source": [
    "scores1+scores2"
   ]
  },
  {
   "cell_type": "code",
   "execution_count": 41,
   "id": "3234fd78",
   "metadata": {},
   "outputs": [
    {
     "data": {
      "text/plain": [
       "(12, 24, 36, 12, 24, 36, 12, 24, 36)"
      ]
     },
     "execution_count": 41,
     "metadata": {},
     "output_type": "execute_result"
    }
   ],
   "source": [
    "age = (12,24,36)*3\n",
    "age"
   ]
  },
  {
   "cell_type": "code",
   "execution_count": 42,
   "id": "77ee947c",
   "metadata": {},
   "outputs": [
    {
     "data": {
      "text/plain": [
       "[101, 202, 444, 101, 202, 444]"
      ]
     },
     "execution_count": 42,
     "metadata": {},
     "output_type": "execute_result"
    }
   ],
   "source": [
    "#using a list\n",
    "ID = [101,202,444]*2\n",
    "ID"
   ]
  },
  {
   "cell_type": "code",
   "execution_count": 43,
   "id": "134f6238",
   "metadata": {},
   "outputs": [
    {
     "data": {
      "text/plain": [
       "'friendfriendfriend'"
      ]
     },
     "execution_count": 43,
     "metadata": {},
     "output_type": "execute_result"
    }
   ],
   "source": [
    "#USING A STRING\n",
    "name = 'friend'*3\n",
    "name"
   ]
  },
  {
   "cell_type": "code",
   "execution_count": 44,
   "id": "a64e2550",
   "metadata": {},
   "outputs": [
    {
     "name": "stdout",
     "output_type": "stream",
     "text": [
      "[(0, 'A'), (1, 'b'), (2, 'c'), (3, 'd')]\n"
     ]
    }
   ],
   "source": [
    "my_List=['A','b','c','d']\n",
    "z =enumerate(my_List)\n",
    "print(list(z))"
   ]
  },
  {
   "cell_type": "code",
   "execution_count": 46,
   "id": "965f9f01",
   "metadata": {},
   "outputs": [],
   "source": [
    "# We will first start with a list of cities\n",
    "city_list = ['Bangkok','Paris','Lahore','Moscow','Cairo']"
   ]
  },
  {
   "cell_type": "code",
   "execution_count": 47,
   "id": "4425764a",
   "metadata": {},
   "outputs": [],
   "source": [
    "#We create a data map now,using a dict\n",
    "city_map = dict((name,position) for position,name in enumerate (city_list)) #enumerate function gives index first"
   ]
  },
  {
   "cell_type": "code",
   "execution_count": 48,
   "id": "4d049ada",
   "metadata": {},
   "outputs": [
    {
     "data": {
      "text/plain": [
       "{'Bangkok': 0, 'Paris': 1, 'Lahore': 2, 'Moscow': 3, 'Cairo': 4}"
      ]
     },
     "execution_count": 48,
     "metadata": {},
     "output_type": "execute_result"
    }
   ],
   "source": [
    "city_map"
   ]
  },
  {
   "cell_type": "code",
   "execution_count": 49,
   "id": "60555be5",
   "metadata": {},
   "outputs": [
    {
     "data": {
      "text/plain": [
       "[10, 9, 8, 7, 6, 5]"
      ]
     },
     "execution_count": 49,
     "metadata": {},
     "output_type": "execute_result"
    }
   ],
   "source": [
    "num_list=[5,6,7,8,9,10]\n",
    "list(reversed(num_list))"
   ]
  },
  {
   "cell_type": "code",
   "execution_count": 50,
   "id": "6e5b366d",
   "metadata": {},
   "outputs": [
    {
     "data": {
      "text/plain": [
       "<list_reverseiterator at 0x18fc1fc32e0>"
      ]
     },
     "execution_count": 50,
     "metadata": {},
     "output_type": "execute_result"
    }
   ],
   "source": [
    "reversed(num_list)"
   ]
  },
  {
   "cell_type": "code",
   "execution_count": 51,
   "id": "bcf41f1c",
   "metadata": {},
   "outputs": [
    {
     "data": {
      "text/plain": [
       "[('maths', 'one'),\n",
       " ('statistics', 'two'),\n",
       " ('science', 'three'),\n",
       " ('economics', 'four')]"
      ]
     },
     "execution_count": 51,
     "metadata": {},
     "output_type": "execute_result"
    }
   ],
   "source": [
    "subjects =['maths','statistics','science','economics']\n",
    "subject_num = ['one','two','three','four']\n",
    "all_subjects = list(zip(subjects,subject_num))   #Changed code for python 3\n",
    "all_subjects"
   ]
  },
  {
   "cell_type": "code",
   "execution_count": null,
   "id": "94273b33",
   "metadata": {},
   "outputs": [],
   "source": []
  }
 ],
 "metadata": {
  "kernelspec": {
   "display_name": "Python 3 (ipykernel)",
   "language": "python",
   "name": "python3"
  },
  "language_info": {
   "codemirror_mode": {
    "name": "ipython",
    "version": 3
   },
   "file_extension": ".py",
   "mimetype": "text/x-python",
   "name": "python",
   "nbconvert_exporter": "python",
   "pygments_lexer": "ipython3",
   "version": "3.9.12"
  }
 },
 "nbformat": 4,
 "nbformat_minor": 5
}
