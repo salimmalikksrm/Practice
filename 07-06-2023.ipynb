{
 "cells": [
  {
   "cell_type": "code",
   "execution_count": 2,
   "id": "75f9000f",
   "metadata": {},
   "outputs": [],
   "source": [
    "list1 = [1,2,3,4,'str','BLR']"
   ]
  },
  {
   "cell_type": "code",
   "execution_count": 3,
   "id": "d382e910",
   "metadata": {},
   "outputs": [],
   "source": [
    "list1.remove('str')"
   ]
  },
  {
   "cell_type": "code",
   "execution_count": 4,
   "id": "87f4a923",
   "metadata": {},
   "outputs": [
    {
     "data": {
      "text/plain": [
       "[1, 2, 3, 4, 'BLR']"
      ]
     },
     "execution_count": 4,
     "metadata": {},
     "output_type": "execute_result"
    }
   ],
   "source": [
    "list1"
   ]
  },
  {
   "cell_type": "markdown",
   "id": "c7a23b2c",
   "metadata": {},
   "source": [
    "# Sets"
   ]
  },
  {
   "cell_type": "code",
   "execution_count": 9,
   "id": "d4acf8da",
   "metadata": {},
   "outputs": [],
   "source": [
    "a = {3,3,3,3,4,5,6,6,4}"
   ]
  },
  {
   "cell_type": "code",
   "execution_count": 10,
   "id": "c646b8d5",
   "metadata": {},
   "outputs": [
    {
     "data": {
      "text/plain": [
       "set"
      ]
     },
     "execution_count": 10,
     "metadata": {},
     "output_type": "execute_result"
    }
   ],
   "source": [
    "type(a)"
   ]
  },
  {
   "cell_type": "code",
   "execution_count": 11,
   "id": "59d7a5ea",
   "metadata": {},
   "outputs": [
    {
     "data": {
      "text/plain": [
       "{3, 4, 5, 6}"
      ]
     },
     "execution_count": 11,
     "metadata": {},
     "output_type": "execute_result"
    }
   ],
   "source": [
    "a"
   ]
  },
  {
   "cell_type": "code",
   "execution_count": 17,
   "id": "aac0bcb8",
   "metadata": {},
   "outputs": [],
   "source": [
    "set1 = {'text',78,98.5,True,(3,4)}"
   ]
  },
  {
   "cell_type": "code",
   "execution_count": 18,
   "id": "24edbdbc",
   "metadata": {},
   "outputs": [],
   "source": [
    "set2 = set()"
   ]
  },
  {
   "cell_type": "code",
   "execution_count": 19,
   "id": "4f95eaf8",
   "metadata": {},
   "outputs": [
    {
     "name": "stdout",
     "output_type": "stream",
     "text": [
      "<class 'set'>\n",
      "<class 'set'>\n"
     ]
    }
   ],
   "source": [
    "print(type(set1))\n",
    "print(type(set2))"
   ]
  },
  {
   "cell_type": "code",
   "execution_count": 20,
   "id": "57f65f08",
   "metadata": {},
   "outputs": [
    {
     "data": {
      "text/plain": [
       "{(3, 4), 78, 98.5, True, 'text'}"
      ]
     },
     "execution_count": 20,
     "metadata": {},
     "output_type": "execute_result"
    }
   ],
   "source": [
    "set1"
   ]
  },
  {
   "cell_type": "code",
   "execution_count": 21,
   "id": "fffb4893",
   "metadata": {},
   "outputs": [],
   "source": [
    "set1.add(50)"
   ]
  },
  {
   "cell_type": "code",
   "execution_count": 22,
   "id": "90266006",
   "metadata": {},
   "outputs": [
    {
     "data": {
      "text/plain": [
       "{(3, 4), 50, 78, 98.5, True, 'text'}"
      ]
     },
     "execution_count": 22,
     "metadata": {},
     "output_type": "execute_result"
    }
   ],
   "source": [
    "set1"
   ]
  },
  {
   "cell_type": "code",
   "execution_count": 26,
   "id": "5604ff3f",
   "metadata": {},
   "outputs": [
    {
     "name": "stdout",
     "output_type": "stream",
     "text": [
      "True 98.5 50 (3, 4) text 78 "
     ]
    }
   ],
   "source": [
    "for i in set1:\n",
    "    print(i,end = \" \")"
   ]
  },
  {
   "cell_type": "markdown",
   "id": "d4eb1aaa",
   "metadata": {},
   "source": [
    "# Dictionary"
   ]
  },
  {
   "cell_type": "code",
   "execution_count": 27,
   "id": "b46b4979",
   "metadata": {},
   "outputs": [],
   "source": [
    "first_dict = {'john':'travolta',\n",
    "              'kelly': 'Brook',\n",
    "              'id':[34,43]}"
   ]
  },
  {
   "cell_type": "code",
   "execution_count": 28,
   "id": "32255146",
   "metadata": {},
   "outputs": [
    {
     "data": {
      "text/plain": [
       "{'john': 'travolta', 'kelly': 'Brook', 'id': [34, 43]}"
      ]
     },
     "execution_count": 28,
     "metadata": {},
     "output_type": "execute_result"
    }
   ],
   "source": [
    "first_dict"
   ]
  },
  {
   "cell_type": "code",
   "execution_count": 30,
   "id": "f9165ac7",
   "metadata": {},
   "outputs": [
    {
     "data": {
      "text/plain": [
       "dict_keys(['john', 'kelly', 'id'])"
      ]
     },
     "execution_count": 30,
     "metadata": {},
     "output_type": "execute_result"
    }
   ],
   "source": [
    "first_dict.keys()"
   ]
  },
  {
   "cell_type": "code",
   "execution_count": 31,
   "id": "81a2d6d2",
   "metadata": {},
   "outputs": [
    {
     "data": {
      "text/plain": [
       "dict_values(['travolta', 'Brook', [34, 43]])"
      ]
     },
     "execution_count": 31,
     "metadata": {},
     "output_type": "execute_result"
    }
   ],
   "source": [
    "first_dict.values()"
   ]
  },
  {
   "cell_type": "code",
   "execution_count": 32,
   "id": "b20fca77",
   "metadata": {},
   "outputs": [
    {
     "data": {
      "text/plain": [
       "dict_items([('john', 'travolta'), ('kelly', 'Brook'), ('id', [34, 43])])"
      ]
     },
     "execution_count": 32,
     "metadata": {},
     "output_type": "execute_result"
    }
   ],
   "source": [
    "first_dict.items()"
   ]
  },
  {
   "cell_type": "code",
   "execution_count": 33,
   "id": "2a2ed6f0",
   "metadata": {},
   "outputs": [
    {
     "name": "stdout",
     "output_type": "stream",
     "text": [
      "john\n",
      "kelly\n",
      "id\n"
     ]
    }
   ],
   "source": [
    "for k,v in first_dict.items():\n",
    "    print(k)"
   ]
  },
  {
   "cell_type": "code",
   "execution_count": 34,
   "id": "5a81e762",
   "metadata": {},
   "outputs": [],
   "source": [
    "first_dict.update({'id':'id1'})"
   ]
  },
  {
   "cell_type": "code",
   "execution_count": 35,
   "id": "6219830e",
   "metadata": {},
   "outputs": [
    {
     "data": {
      "text/plain": [
       "{'john': 'travolta', 'kelly': 'Brook', 'id': 'id1'}"
      ]
     },
     "execution_count": 35,
     "metadata": {},
     "output_type": "execute_result"
    }
   ],
   "source": [
    "first_dict"
   ]
  },
  {
   "cell_type": "code",
   "execution_count": 36,
   "id": "1e0a3ad0",
   "metadata": {},
   "outputs": [],
   "source": [
    "set1 ={1,2,3,4,5}"
   ]
  },
  {
   "cell_type": "code",
   "execution_count": 37,
   "id": "00712193",
   "metadata": {},
   "outputs": [],
   "source": [
    "set1.discard(3)"
   ]
  },
  {
   "cell_type": "code",
   "execution_count": 38,
   "id": "ed31e1bc",
   "metadata": {},
   "outputs": [
    {
     "data": {
      "text/plain": [
       "{1, 2, 4, 5}"
      ]
     },
     "execution_count": 38,
     "metadata": {},
     "output_type": "execute_result"
    }
   ],
   "source": [
    "set1"
   ]
  },
  {
   "cell_type": "code",
   "execution_count": 39,
   "id": "75175d41",
   "metadata": {},
   "outputs": [],
   "source": [
    "scores1 = [67,66,50,47]\n",
    "scores2 = [70,80,90,47]"
   ]
  },
  {
   "cell_type": "code",
   "execution_count": 40,
   "id": "5fbeadcc",
   "metadata": {},
   "outputs": [
    {
     "data": {
      "text/plain": [
       "[67, 66, 50, 47, 70, 80, 90, 47]"
      ]
     },
     "execution_count": 40,
     "metadata": {},
     "output_type": "execute_result"
    }
   ],
   "source": [
    "scores1+scores2"
   ]
  },
  {
   "cell_type": "code",
   "execution_count": 41,
   "id": "59fa4699",
   "metadata": {},
   "outputs": [
    {
     "data": {
      "text/plain": [
       "(12, 24, 36, 12, 24, 36, 12, 24, 36)"
      ]
     },
     "execution_count": 41,
     "metadata": {},
     "output_type": "execute_result"
    }
   ],
   "source": [
    "age = (12,24,36)*3\n",
    "age"
   ]
  },
  {
   "cell_type": "code",
   "execution_count": 42,
   "id": "c9c26be9",
   "metadata": {},
   "outputs": [
    {
     "data": {
      "text/plain": [
       "[101, 202, 444, 101, 202, 444]"
      ]
     },
     "execution_count": 42,
     "metadata": {},
     "output_type": "execute_result"
    }
   ],
   "source": [
    "#using a list\n",
    "ID = [101,202,444]*2\n",
    "ID"
   ]
  },
  {
   "cell_type": "code",
   "execution_count": 43,
   "id": "5070176b",
   "metadata": {},
   "outputs": [
    {
     "data": {
      "text/plain": [
       "'friendfriendfriend'"
      ]
     },
     "execution_count": 43,
     "metadata": {},
     "output_type": "execute_result"
    }
   ],
   "source": [
    "#USING A STRING\n",
    "name = 'friend'*3\n",
    "name"
   ]
  },
  {
   "cell_type": "code",
   "execution_count": 44,
   "id": "dc2b8eda",
   "metadata": {},
   "outputs": [
    {
     "name": "stdout",
     "output_type": "stream",
     "text": [
      "[(0, 'A'), (1, 'b'), (2, 'c'), (3, 'd')]\n"
     ]
    }
   ],
   "source": [
    "my_List=['A','b','c','d']\n",
    "z =enumerate(my_List)\n",
    "print(list(z))"
   ]
  },
  {
   "cell_type": "code",
   "execution_count": 46,
   "id": "d35b340d",
   "metadata": {},
   "outputs": [],
   "source": [
    "# We will first start with a list of cities\n",
    "city_list = ['Bangkok','Paris','Lahore','Moscow','Cairo']"
   ]
  },
  {
   "cell_type": "code",
   "execution_count": 47,
   "id": "b9211efe",
   "metadata": {},
   "outputs": [],
   "source": [
    "#We create a data map now,using a dict\n",
    "city_map = dict((name,position) for position,name in enumerate (city_list)) #enumerate function gives index first"
   ]
  },
  {
   "cell_type": "code",
   "execution_count": 48,
   "id": "09c025f0",
   "metadata": {},
   "outputs": [
    {
     "data": {
      "text/plain": [
       "{'Bangkok': 0, 'Paris': 1, 'Lahore': 2, 'Moscow': 3, 'Cairo': 4}"
      ]
     },
     "execution_count": 48,
     "metadata": {},
     "output_type": "execute_result"
    }
   ],
   "source": [
    "city_map"
   ]
  },
  {
   "cell_type": "code",
   "execution_count": 49,
   "id": "2c5bd057",
   "metadata": {},
   "outputs": [
    {
     "data": {
      "text/plain": [
       "[10, 9, 8, 7, 6, 5]"
      ]
     },
     "execution_count": 49,
     "metadata": {},
     "output_type": "execute_result"
    }
   ],
   "source": [
    "num_list=[5,6,7,8,9,10]\n",
    "list(reversed(num_list))"
   ]
  },
  {
   "cell_type": "code",
   "execution_count": 50,
   "id": "e6c1ac0a",
   "metadata": {},
   "outputs": [
    {
     "data": {
      "text/plain": [
       "<list_reverseiterator at 0x18fc1fc32e0>"
      ]
     },
     "execution_count": 50,
     "metadata": {},
     "output_type": "execute_result"
    }
   ],
   "source": [
    "reversed(num_list)"
   ]
  },
  {
   "cell_type": "code",
   "execution_count": 51,
   "id": "9f72b789",
   "metadata": {},
   "outputs": [
    {
     "data": {
      "text/plain": [
       "[('maths', 'one'),\n",
       " ('statistics', 'two'),\n",
       " ('science', 'three'),\n",
       " ('economics', 'four')]"
      ]
     },
     "execution_count": 51,
     "metadata": {},
     "output_type": "execute_result"
    }
   ],
   "source": [
    "subjects =['maths','statistics','science','economics']\n",
    "subject_num = ['one','two','three','four']\n",
    "all_subjects = list(zip(subjects,subject_num))   #Changed code for python 3\n",
    "all_subjects"
   ]
  },
  {
   "cell_type": "code",
   "execution_count": null,
   "id": "37c7df5a",
   "metadata": {},
   "outputs": [],
   "source": []
  }
 ],
 "metadata": {
  "kernelspec": {
   "display_name": "Python 3 (ipykernel)",
   "language": "python",
   "name": "python3"
  },
  "language_info": {
   "codemirror_mode": {
    "name": "ipython",
    "version": 3
   },
   "file_extension": ".py",
   "mimetype": "text/x-python",
   "name": "python",
   "nbconvert_exporter": "python",
   "pygments_lexer": "ipython3",
   "version": "3.9.12"
  }
 },
 "nbformat": 4,
 "nbformat_minor": 5
}
