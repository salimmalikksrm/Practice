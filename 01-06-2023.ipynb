{
 "cells": [
  {
   "cell_type": "code",
   "execution_count": 20,
   "id": "b86e9d18",
   "metadata": {},
   "outputs": [
    {
     "name": "stdout",
     "output_type": "stream",
     "text": [
      "9\n"
     ]
    }
   ],
   "source": [
    "x = [2,3,4,5,6]\n",
    "\n",
    "\n",
    "y = (lambda a: a*a)\n",
    "\n",
    "print(y(3))"
   ]
  },
  {
   "cell_type": "code",
   "execution_count": 21,
   "id": "0df4e6b4",
   "metadata": {},
   "outputs": [
    {
     "data": {
      "text/plain": [
       "'SKEERGROFSKEERG'"
      ]
     },
     "execution_count": 21,
     "metadata": {},
     "output_type": "execute_result"
    }
   ],
   "source": [
    "str1 = 'GreeksforGreeks'\n",
    "\n",
    "rev_upper = lambda st: st.upper()[::-1]\n",
    "\n",
    "rev_upper(str1)"
   ]
  },
  {
   "cell_type": "code",
   "execution_count": 25,
   "id": "2df4f9e4",
   "metadata": {},
   "outputs": [
    {
     "data": {
      "text/plain": [
       "'100,000,000.23'"
      ]
     },
     "execution_count": 25,
     "metadata": {},
     "output_type": "execute_result"
    }
   ],
   "source": [
    "formating = lambda num: f'{num:e}' if isinstance(num, int) else f'{num:,.2f}'\n",
    "\n",
    "\n",
    "formating(100000000.23)"
   ]
  },
  {
   "cell_type": "code",
   "execution_count": 29,
   "id": "b9dba7a2",
   "metadata": {},
   "outputs": [
    {
     "name": "stdout",
     "output_type": "stream",
     "text": [
      "def function cube value 729\n",
      "lambda function cube value 512\n"
     ]
    }
   ],
   "source": [
    "def cube(y):\n",
    "    return y*y*y\n",
    "\n",
    "\n",
    "lambda_cube = lambda y: y*y*y\n",
    "\n",
    "print('def function cube value',cube(9))\n",
    "print('lambda function cube value',lambda_cube(8))"
   ]
  },
  {
   "cell_type": "code",
   "execution_count": 34,
   "id": "771b8cb2",
   "metadata": {},
   "outputs": [
    {
     "name": "stdout",
     "output_type": "stream",
     "text": [
      "10\n",
      "20\n",
      "30\n",
      "40\n"
     ]
    }
   ],
   "source": [
    "is_even_list = [lambda arg=x: arg*10 for x in range(1,5)]\n",
    "\n",
    "for item in is_even_list:\n",
    "    print(item())"
   ]
  },
  {
   "cell_type": "code",
   "execution_count": 35,
   "id": "406cd0d8",
   "metadata": {},
   "outputs": [
    {
     "data": {
      "text/plain": [
       "2"
      ]
     },
     "execution_count": 35,
     "metadata": {},
     "output_type": "execute_result"
    }
   ],
   "source": [
    "Max = lambda x,y: x if x>y else y\n",
    "\n",
    "Max(1,2)"
   ]
  },
  {
   "cell_type": "code",
   "execution_count": 48,
   "id": "c65e90bd",
   "metadata": {},
   "outputs": [
    {
     "data": {
      "text/plain": [
       "[3, 16, 9]"
      ]
     },
     "execution_count": 48,
     "metadata": {},
     "output_type": "execute_result"
    }
   ],
   "source": [
    "List = [[2,3,4],[1, 4, 16, 64],[3, 6, 9, 12]]\n",
    "\n",
    "sort = lambda x: (sorted(i) for i in x)\n",
    "\n",
    "secondLargest = lambda a,f: [y[len(y)-2] for y in f(a)]\n",
    "\n",
    "res = secondLargest(List,sort)\n",
    "\n",
    "res\n"
   ]
  },
  {
   "cell_type": "code",
   "execution_count": null,
   "id": "6270f506",
   "metadata": {},
   "outputs": [],
   "source": []
  }
 ],
 "metadata": {
  "kernelspec": {
   "display_name": "Python 3 (ipykernel)",
   "language": "python",
   "name": "python3"
  },
  "language_info": {
   "codemirror_mode": {
    "name": "ipython",
    "version": 3
   },
   "file_extension": ".py",
   "mimetype": "text/x-python",
   "name": "python",
   "nbconvert_exporter": "python",
   "pygments_lexer": "ipython3",
   "version": "3.9.12"
  }
 },
 "nbformat": 4,
 "nbformat_minor": 5
}
