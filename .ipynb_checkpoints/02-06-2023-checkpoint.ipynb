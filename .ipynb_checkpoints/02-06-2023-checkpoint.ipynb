{
 "cells": [
  {
   "cell_type": "code",
   "execution_count": 2,
   "id": "84da5376",
   "metadata": {},
   "outputs": [
    {
     "name": "stdout",
     "output_type": "stream",
     "text": [
      "10 done\n",
      "101 done\n",
      "12 done\n",
      "13 done\n"
     ]
    }
   ],
   "source": [
    "l1 = [10,101,12,13]\n",
    "\n",
    "for i in l1:\n",
    "    print(i,'done')"
   ]
  },
  {
   "cell_type": "code",
   "execution_count": 3,
   "id": "7de56f00",
   "metadata": {},
   "outputs": [
    {
     "name": "stdout",
     "output_type": "stream",
     "text": [
      "<class 'int'>\n",
      "10\n",
      "<class 'int'>\n",
      "20\n",
      "<class 'str'>\n",
      "salim\n",
      "<class 'bool'>\n",
      "True\n",
      "<class 'str'>\n",
      "Good\n"
     ]
    }
   ],
   "source": [
    "l1_my = [10, 20, 'salim', True, 'Good']\n",
    "\n",
    "for i in l1_my:\n",
    "    \n",
    "    print(type(i))\n",
    "    print(i)"
   ]
  },
  {
   "cell_type": "code",
   "execution_count": 8,
   "id": "aeca9b41",
   "metadata": {},
   "outputs": [
    {
     "data": {
      "text/plain": [
       "[10, 12]"
      ]
     },
     "execution_count": 8,
     "metadata": {},
     "output_type": "execute_result"
    }
   ],
   "source": [
    "l1\n",
    "\n",
    "l1[0:3:2]"
   ]
  },
  {
   "cell_type": "code",
   "execution_count": 9,
   "id": "3ac970fe",
   "metadata": {},
   "outputs": [],
   "source": [
    "new_list = ['Bharat','swati','Woo']\n",
    "lis_num = [20,21,22]\n",
    "\n",
    "new = new_list+lis_num"
   ]
  },
  {
   "cell_type": "code",
   "execution_count": 10,
   "id": "55486060",
   "metadata": {},
   "outputs": [
    {
     "data": {
      "text/plain": [
       "['Bharat', 'swati', 'Woo', 20, 21, 22]"
      ]
     },
     "execution_count": 10,
     "metadata": {},
     "output_type": "execute_result"
    }
   ],
   "source": [
    "new "
   ]
  },
  {
   "cell_type": "code",
   "execution_count": 11,
   "id": "fc60b796",
   "metadata": {},
   "outputs": [
    {
     "data": {
      "text/plain": [
       "(12, 34, 5, 6, 45, 34, 322)"
      ]
     },
     "execution_count": 11,
     "metadata": {},
     "output_type": "execute_result"
    }
   ],
   "source": [
    "s1 = (12,34,5,6)\n",
    "s2 = (45,34,322)\n",
    "\n",
    "s = s1+s2\n",
    "\n",
    "s"
   ]
  },
  {
   "cell_type": "code",
   "execution_count": 12,
   "id": "3d529b42",
   "metadata": {},
   "outputs": [
    {
     "name": "stdout",
     "output_type": "stream",
     "text": [
      "['Bharat', 'swati', 'Woo', 1020]\n",
      "['Bharat', 'swati', 'Woo', 1020, 1021]\n",
      "['Bharat', 'swati', 'Woo', 1020, 1021, 1022]\n"
     ]
    }
   ],
   "source": [
    "new_list = ['Bharat','swati','Woo']\n",
    "lis_num = [20,21,22]\n",
    "\n",
    "for i in lis_num:\n",
    "    new_list.append(i+1000)\n",
    "    print(new_list)"
   ]
  },
  {
   "cell_type": "code",
   "execution_count": 13,
   "id": "b785b67a",
   "metadata": {},
   "outputs": [
    {
     "name": "stdout",
     "output_type": "stream",
     "text": [
      "[20, 21, 22, 'Woo', 1020, 1021, 1022]\n"
     ]
    }
   ],
   "source": [
    "l1 = ['Bharat', 'swati', 'Woo', 1020, 1021, 1022]\n",
    "\n",
    "list_num = [20,21,22]\n",
    "\n",
    "for i in l1[2:]:\n",
    "    list_num.append(i)\n",
    "    \n",
    "print(list_num)"
   ]
  },
  {
   "cell_type": "code",
   "execution_count": 17,
   "id": "042bdeff",
   "metadata": {},
   "outputs": [
    {
     "data": {
      "text/plain": [
       "[20, 21, 22, 'WOO', 10200, 10210, 10220, 1]"
      ]
     },
     "execution_count": 17,
     "metadata": {},
     "output_type": "execute_result"
    }
   ],
   "source": [
    "l1 = ['Bharat', 'swati', 'Woo', 1020, 1021, 1022,True]\n",
    "\n",
    "list_num = [20,21,22]\n",
    "\n",
    "for i in l1[2:]:\n",
    "    if type(i) == str:\n",
    "        list_num.append(i.upper())\n",
    "    elif type(i) == int:\n",
    "        list_num.append(i*10)\n",
    "    elif type(i) == bool:\n",
    "        list_num.append(int(i))\n",
    "    else:\n",
    "        print('unknown data type')\n",
    "        \n",
    "list_num"
   ]
  },
  {
   "cell_type": "code",
   "execution_count": 18,
   "id": "eb252af5",
   "metadata": {},
   "outputs": [
    {
     "data": {
      "text/plain": [
       "[22, 21, 20]"
      ]
     },
     "execution_count": 18,
     "metadata": {},
     "output_type": "execute_result"
    }
   ],
   "source": [
    "list_num = [20,21,22]\n",
    "\n",
    "list_num[::-1]"
   ]
  },
  {
   "cell_type": "code",
   "execution_count": 20,
   "id": "b021d5b5",
   "metadata": {},
   "outputs": [
    {
     "name": "stdout",
     "output_type": "stream",
     "text": [
      "1020 less\n",
      "1021 zero\n",
      "1022 more\n",
      "True less\n"
     ]
    }
   ],
   "source": [
    "l1 = [1020, 1021, 1022,True]\n",
    "\n",
    "for i in l1:\n",
    "    \n",
    "    if i > 1021:\n",
    "        print(i,'more')\n",
    "    elif i < 1021:\n",
    "        print(i,'less')\n",
    "    else:\n",
    "        print(i,'zero')"
   ]
  },
  {
   "cell_type": "code",
   "execution_count": 28,
   "id": "ce0a107f",
   "metadata": {},
   "outputs": [
    {
     "name": "stdout",
     "output_type": "stream",
     "text": [
      "['i']\n",
      "['i', 'e']\n",
      "['i', 'e', 't']\n",
      "['i', 'e', 't', 'i']\n",
      "['i', 'e', 't', 'i', 'e']\n",
      "['i', 'e', 't', 'i', 'e', 'a']\n"
     ]
    }
   ],
   "source": [
    "new_list=['Canisha', 'lovely', 'parth', 'rohit', 'ganesh', 'Cia']\n",
    "\n",
    "l2 = []\n",
    "\n",
    "for i in new_list:\n",
    "    if len(i) <= 3:\n",
    "        l2.append(i[2])\n",
    "    else:\n",
    "        l2.append(i[3])\n",
    "    print(l2)\n",
    "\n",
    "# print(l2)"
   ]
  },
  {
   "cell_type": "code",
   "execution_count": 29,
   "id": "86ae21c3",
   "metadata": {},
   "outputs": [
    {
     "name": "stdout",
     "output_type": "stream",
     "text": [
      "Canisha\n",
      "name do not start with C\n",
      "name do not start with C\n",
      "name do not start with C\n",
      "name do not start with C\n",
      "Cia\n"
     ]
    }
   ],
   "source": [
    "for i in new_list:\n",
    "    if i[0] == 'C':\n",
    "        print(i)\n",
    "    else:\n",
    "        print('name do not start with C')"
   ]
  },
  {
   "cell_type": "code",
   "execution_count": 32,
   "id": "9f08f415",
   "metadata": {},
   "outputs": [
    {
     "name": "stdout",
     "output_type": "stream",
     "text": [
      "100 a\n",
      "101 b\n",
      "102 c\n",
      "103 a\n",
      "104 b\n"
     ]
    }
   ],
   "source": [
    "nl = ['a','b','c','a','b']\n",
    "\n",
    "for i,v in enumerate(nl,100):\n",
    "    print(i,v)"
   ]
  },
  {
   "cell_type": "code",
   "execution_count": 34,
   "id": "a5def6b5",
   "metadata": {},
   "outputs": [
    {
     "data": {
      "text/plain": [
       "[1, 1000, 20, 2, 3, 4, 56, 6, 7, 8]"
      ]
     },
     "execution_count": 34,
     "metadata": {},
     "output_type": "execute_result"
    }
   ],
   "source": [
    "s1 = [1,1,1000,1,1,1,20,2,2,2,3,4,4,56,6,7,7,8]\n",
    "s2 = []\n",
    "\n",
    "for i in s1:\n",
    "    if i not in s2:\n",
    "        s2.append(i)\n",
    "        \n",
    "s2"
   ]
  },
  {
   "cell_type": "code",
   "execution_count": 39,
   "id": "f9725436",
   "metadata": {},
   "outputs": [
    {
     "name": "stdout",
     "output_type": "stream",
     "text": [
      "<class 'dict'>\n"
     ]
    }
   ],
   "source": [
    "s1 = {}\n",
    "\n",
    "print(type(s1))"
   ]
  },
  {
   "cell_type": "code",
   "execution_count": 38,
   "id": "e16b8036",
   "metadata": {},
   "outputs": [
    {
     "name": "stdout",
     "output_type": "stream",
     "text": [
      "<class 'set'>\n"
     ]
    }
   ],
   "source": [
    "s1 = {2,3}\n",
    "\n",
    "print(type(s1))"
   ]
  },
  {
   "cell_type": "code",
   "execution_count": 40,
   "id": "1c9a24e9",
   "metadata": {},
   "outputs": [
    {
     "name": "stdout",
     "output_type": "stream",
     "text": [
      "{1, 2, 3, 4, 6, 7, 1000, 8, 20, 56}\n"
     ]
    }
   ],
   "source": [
    "s1 = [1,1,1000,1,1,1,20,2,2,2,3,4,4,56,6,7,7,8]\n",
    "\n",
    "s1 = set(s1)\n",
    "\n",
    "print(s1)"
   ]
  },
  {
   "cell_type": "code",
   "execution_count": 43,
   "id": "1dae2afe",
   "metadata": {},
   "outputs": [
    {
     "name": "stdout",
     "output_type": "stream",
     "text": [
      "{'salim', 1, 2, 12}\n"
     ]
    }
   ],
   "source": [
    "s2 = {1,1,1,12,2,2}\n",
    "\n",
    "s2.add('salim')\n",
    "\n",
    "print(s2)"
   ]
  },
  {
   "cell_type": "code",
   "execution_count": 48,
   "id": "582736ef",
   "metadata": {},
   "outputs": [
    {
     "name": "stdout",
     "output_type": "stream",
     "text": [
      "{1, 2, 12, 'harry', 'azees', 'malik'}\n"
     ]
    }
   ],
   "source": [
    "s2 = {1,1,1,12,2,2}\n",
    "\n",
    "s2.update(['malik','harry','azees'])\n",
    "\n",
    "print(s2)"
   ]
  },
  {
   "cell_type": "code",
   "execution_count": 56,
   "id": "95f0c303",
   "metadata": {},
   "outputs": [
    {
     "name": "stdout",
     "output_type": "stream",
     "text": [
      "{1, 2, 12, 'harry', 'azees', 'malik'}\n",
      "{1, 2, 12, 'harry', 'azees'}\n"
     ]
    }
   ],
   "source": [
    "s2 = {1,1,1,12,2,2}\n",
    "\n",
    "s2.update(['malik','harry','azees'])\n",
    "\n",
    "print(s2)\n",
    "\n",
    "s2.remove('malik')\n",
    "\n",
    "print(s2)"
   ]
  },
  {
   "cell_type": "code",
   "execution_count": 55,
   "id": "658edfcd",
   "metadata": {},
   "outputs": [
    {
     "name": "stdout",
     "output_type": "stream",
     "text": [
      "{2, 12}\n"
     ]
    }
   ],
   "source": [
    "s2 = {1,1,1,12,2,2}\n",
    "\n",
    "s2.pop()\n",
    "\n",
    "print(s2)"
   ]
  },
  {
   "cell_type": "code",
   "execution_count": 57,
   "id": "3d142559",
   "metadata": {},
   "outputs": [
    {
     "name": "stdout",
     "output_type": "stream",
     "text": [
      "{'Kabindra', 'shubham', 'fuzalikhan'}\n",
      "{2, 12}\n"
     ]
    }
   ],
   "source": [
    "ip = {2,'shubham',12,'Kabindra','fuzalikhan'}\n",
    "\n",
    "set1 = set()\n",
    "set2 = set()\n",
    "\n",
    "for i in ip:\n",
    "    if type(i) == str:\n",
    "        set1.add(i)\n",
    "    else:\n",
    "        set2.add(i)\n",
    "        \n",
    "print(set1)\n",
    "print(set2)"
   ]
  },
  {
   "cell_type": "code",
   "execution_count": 58,
   "id": "2c758817",
   "metadata": {},
   "outputs": [],
   "source": [
    "s1 = {'milk','pulses','cakes','candy'}\n",
    "s2 = {'bags', 'belts', 'chips','milk'}\n",
    "\n"
   ]
  },
  {
   "cell_type": "code",
   "execution_count": 59,
   "id": "8ca97ea2",
   "metadata": {},
   "outputs": [
    {
     "data": {
      "text/plain": [
       "{'milk'}"
      ]
     },
     "execution_count": 59,
     "metadata": {},
     "output_type": "execute_result"
    }
   ],
   "source": [
    "s1.intersection(s2)"
   ]
  },
  {
   "cell_type": "code",
   "execution_count": 60,
   "id": "12b1ea93",
   "metadata": {},
   "outputs": [
    {
     "data": {
      "text/plain": [
       "{'bags', 'belts', 'cakes', 'candy', 'chips', 'milk', 'pulses'}"
      ]
     },
     "execution_count": 60,
     "metadata": {},
     "output_type": "execute_result"
    }
   ],
   "source": [
    "s1.union(s2)"
   ]
  },
  {
   "cell_type": "code",
   "execution_count": 61,
   "id": "532219ec",
   "metadata": {},
   "outputs": [
    {
     "data": {
      "text/plain": [
       "{'cakes', 'candy', 'pulses'}"
      ]
     },
     "execution_count": 61,
     "metadata": {},
     "output_type": "execute_result"
    }
   ],
   "source": [
    "s1.difference(s2)"
   ]
  },
  {
   "cell_type": "code",
   "execution_count": 62,
   "id": "28dfa628",
   "metadata": {},
   "outputs": [
    {
     "data": {
      "text/plain": [
       "{'cakes', 'candy', 'pulses'}"
      ]
     },
     "execution_count": 62,
     "metadata": {},
     "output_type": "execute_result"
    }
   ],
   "source": [
    "s1-s2"
   ]
  },
  {
   "cell_type": "code",
   "execution_count": 63,
   "id": "28323dda",
   "metadata": {},
   "outputs": [
    {
     "data": {
      "text/plain": [
       "{'bags', 'belts', 'chips'}"
      ]
     },
     "execution_count": 63,
     "metadata": {},
     "output_type": "execute_result"
    }
   ],
   "source": [
    "s2-s1"
   ]
  },
  {
   "cell_type": "code",
   "execution_count": 66,
   "id": "c4957dd7",
   "metadata": {},
   "outputs": [
    {
     "data": {
      "text/plain": [
       "1"
      ]
     },
     "execution_count": 66,
     "metadata": {},
     "output_type": "execute_result"
    }
   ],
   "source": [
    "tu = (1,2,3,1,1,1,1.0)\n",
    "\n",
    "tu[0]"
   ]
  },
  {
   "cell_type": "code",
   "execution_count": 67,
   "id": "525ecbea",
   "metadata": {},
   "outputs": [
    {
     "data": {
      "text/plain": [
       "[1, 1, 1, 1, 1.0, 2, 3]"
      ]
     },
     "execution_count": 67,
     "metadata": {},
     "output_type": "execute_result"
    }
   ],
   "source": [
    "tu = (1,2,3,1,1,1,1.0)\n",
    "\n",
    "sorted(tu)"
   ]
  },
  {
   "cell_type": "code",
   "execution_count": 68,
   "id": "897e11e6",
   "metadata": {},
   "outputs": [
    {
     "data": {
      "text/plain": [
       "(1, 1, 1, 1, 1.0, 2, 3)"
      ]
     },
     "execution_count": 68,
     "metadata": {},
     "output_type": "execute_result"
    }
   ],
   "source": [
    "tuple(sorted(tu))"
   ]
  },
  {
   "cell_type": "code",
   "execution_count": 70,
   "id": "be5086f7",
   "metadata": {},
   "outputs": [
    {
     "name": "stdout",
     "output_type": "stream",
     "text": [
      "(100, 1, 2, 3, 1, 1, 1, 1.0)\n"
     ]
    }
   ],
   "source": [
    "tu = (1,2,3,1,1,1,1.0)\n",
    "\n",
    "tu = list(tu)\n",
    "\n",
    "tu.insert(0,100)\n",
    "\n",
    "tu = tuple(tu)\n",
    "\n",
    "print(tu)"
   ]
  },
  {
   "cell_type": "code",
   "execution_count": 71,
   "id": "d1f1edff",
   "metadata": {},
   "outputs": [
    {
     "data": {
      "text/plain": [
       "0"
      ]
     },
     "execution_count": 71,
     "metadata": {},
     "output_type": "execute_result"
    }
   ],
   "source": [
    "tu.index(100)"
   ]
  },
  {
   "cell_type": "code",
   "execution_count": 73,
   "id": "1b762a79",
   "metadata": {},
   "outputs": [
    {
     "data": {
      "text/plain": [
       "[(0, 100), (1, 1), (2, 2), (3, 3), (4, 1), (5, 1), (6, 1), (7, 1.0)]"
      ]
     },
     "execution_count": 73,
     "metadata": {},
     "output_type": "execute_result"
    }
   ],
   "source": [
    "list(enumerate(tu))"
   ]
  },
  {
   "cell_type": "code",
   "execution_count": 74,
   "id": "fc37ed07",
   "metadata": {},
   "outputs": [
    {
     "data": {
      "text/plain": [
       "{'name': 'Python', 'age': 23, 'hari': 'black', 'id': 1.0}"
      ]
     },
     "execution_count": 74,
     "metadata": {},
     "output_type": "execute_result"
    }
   ],
   "source": [
    "d = {'name' :'sam',\n",
    "     'age'  : 23,\n",
    "     'hari' :'black',\n",
    "     'id'   : 1.0,\n",
    "     'name' :'Python'}\n",
    "\n",
    "d"
   ]
  },
  {
   "cell_type": "code",
   "execution_count": 75,
   "id": "f25f1846",
   "metadata": {},
   "outputs": [
    {
     "data": {
      "text/plain": [
       "'Python'"
      ]
     },
     "execution_count": 75,
     "metadata": {},
     "output_type": "execute_result"
    }
   ],
   "source": [
    "d['name']"
   ]
  },
  {
   "cell_type": "code",
   "execution_count": 76,
   "id": "01094a9d",
   "metadata": {},
   "outputs": [
    {
     "data": {
      "text/plain": [
       "{'name': ['sam', 'bam', 'ham'],\n",
       " 'age': [23, 30, 30],\n",
       " 'hair': ['black', 'brown', 'red'],\n",
       " 'id': [2, 3, 4]}"
      ]
     },
     "execution_count": 76,
     "metadata": {},
     "output_type": "execute_result"
    }
   ],
   "source": [
    "d2 = {'name':['sam','bam','ham'],\n",
    "      'age': [23,30,30],\n",
    "      'hair':['black','brown','red'],\n",
    "      'id':[2,3,4]}\n",
    "\n",
    "d2"
   ]
  },
  {
   "cell_type": "code",
   "execution_count": 77,
   "id": "cf97cf69",
   "metadata": {},
   "outputs": [
    {
     "data": {
      "text/plain": [
       "[23, 30, 30]"
      ]
     },
     "execution_count": 77,
     "metadata": {},
     "output_type": "execute_result"
    }
   ],
   "source": [
    "d2['age']"
   ]
  },
  {
   "cell_type": "code",
   "execution_count": 78,
   "id": "6001df9f",
   "metadata": {},
   "outputs": [
    {
     "data": {
      "text/plain": [
       "['sam', 'bam', 'ham', 'may', 'July']"
      ]
     },
     "execution_count": 78,
     "metadata": {},
     "output_type": "execute_result"
    }
   ],
   "source": [
    "d2['name'].extend(['may','July'])\n",
    "\n",
    "d2['name']"
   ]
  },
  {
   "cell_type": "code",
   "execution_count": 81,
   "id": "6fde3757",
   "metadata": {},
   "outputs": [
    {
     "data": {
      "text/plain": [
       "[10, 15, 20, 25, 30, 35, 40, 45, 50, 55, 60, 65, 70, 75, 80, 85, 90, 95, 100]"
      ]
     },
     "execution_count": 81,
     "metadata": {},
     "output_type": "execute_result"
    }
   ],
   "source": [
    "a = [i for i in range(10,105,5)]\n",
    "\n",
    "a"
   ]
  },
  {
   "cell_type": "code",
   "execution_count": 83,
   "id": "e9331e21",
   "metadata": {},
   "outputs": [
    {
     "data": {
      "text/plain": [
       "[100, 95, 90, 85, 80, 75, 70, 65, 60, 55, 50, 45, 40, 35, 30, 25, 20, 15, 10]"
      ]
     },
     "execution_count": 83,
     "metadata": {},
     "output_type": "execute_result"
    }
   ],
   "source": [
    "a = []\n",
    "\n",
    "for i in range(10,105,5):\n",
    "    a.append(i)\n",
    "    \n",
    "a[::-1]"
   ]
  },
  {
   "cell_type": "code",
   "execution_count": 85,
   "id": "12f81005",
   "metadata": {},
   "outputs": [
    {
     "data": {
      "text/plain": [
       "<list_reverseiterator at 0x1f842310400>"
      ]
     },
     "execution_count": 85,
     "metadata": {},
     "output_type": "execute_result"
    }
   ],
   "source": [
    "reversed(a)"
   ]
  },
  {
   "cell_type": "code",
   "execution_count": 84,
   "id": "b1d85c53",
   "metadata": {},
   "outputs": [
    {
     "data": {
      "text/plain": [
       "[100, 95, 90, 85, 80, 75, 70, 65, 60, 55, 50, 45, 40, 35, 30, 25, 20, 15, 10]"
      ]
     },
     "execution_count": 84,
     "metadata": {},
     "output_type": "execute_result"
    }
   ],
   "source": [
    "list(reversed(a))"
   ]
  },
  {
   "cell_type": "code",
   "execution_count": 86,
   "id": "16d227da",
   "metadata": {
    "collapsed": true
   },
   "outputs": [
    {
     "data": {
      "text/plain": [
       "['even',\n",
       " 'odd',\n",
       " 'even',\n",
       " 'odd',\n",
       " 'even',\n",
       " 'odd',\n",
       " 'even',\n",
       " 'odd',\n",
       " 'even',\n",
       " 'odd',\n",
       " 'even',\n",
       " 'odd',\n",
       " 'even',\n",
       " 'odd',\n",
       " 'even',\n",
       " 'odd',\n",
       " 'even',\n",
       " 'odd',\n",
       " 'even']"
      ]
     },
     "execution_count": 86,
     "metadata": {},
     "output_type": "execute_result"
    }
   ],
   "source": [
    "x = []\n",
    "\n",
    "for i in range(10,105,5):\n",
    "    if (i%2) == 0:\n",
    "        x.append('even')\n",
    "    else:\n",
    "        x.append('odd')\n",
    "        \n",
    "x"
   ]
  },
  {
   "cell_type": "code",
   "execution_count": 87,
   "id": "749fb9c1",
   "metadata": {
    "collapsed": true
   },
   "outputs": [
    {
     "data": {
      "text/plain": [
       "['even',\n",
       " 'odd',\n",
       " 'even',\n",
       " 'odd',\n",
       " 'even',\n",
       " 'odd',\n",
       " 'even',\n",
       " 'odd',\n",
       " 'even',\n",
       " 'odd',\n",
       " 'even',\n",
       " 'odd',\n",
       " 'even',\n",
       " 'odd',\n",
       " 'even',\n",
       " 'odd',\n",
       " 'even',\n",
       " 'odd',\n",
       " 'even']"
      ]
     },
     "execution_count": 87,
     "metadata": {},
     "output_type": "execute_result"
    }
   ],
   "source": [
    "x = ['even' if i%2 == 0 else 'odd' for i in range(10,105,5)]\n",
    "\n",
    "x"
   ]
  },
  {
   "cell_type": "code",
   "execution_count": 89,
   "id": "4747eba4",
   "metadata": {},
   "outputs": [
    {
     "name": "stdout",
     "output_type": "stream",
     "text": [
      "less than 5\n",
      "less than 5\n",
      "less than 5\n"
     ]
    }
   ],
   "source": [
    "x = 2\n",
    "\n",
    "while x<5:\n",
    "    print('less than 5')\n",
    "    x+=1"
   ]
  },
  {
   "cell_type": "code",
   "execution_count": 91,
   "id": "3ab6a129",
   "metadata": {},
   "outputs": [
    {
     "data": {
      "text/plain": [
       "164"
      ]
     },
     "execution_count": 91,
     "metadata": {},
     "output_type": "execute_result"
    }
   ],
   "source": [
    "def cube(x):\n",
    "    return (x**3)+100\n",
    "\n",
    "cube(4)"
   ]
  },
  {
   "cell_type": "code",
   "execution_count": 93,
   "id": "4baa7559",
   "metadata": {},
   "outputs": [
    {
     "name": "stdout",
     "output_type": "stream",
     "text": [
      "225\n",
      "316\n",
      "443\n",
      "612\n",
      "829\n",
      "1100\n"
     ]
    }
   ],
   "source": [
    "for i in range(5,11):\n",
    "    print(cube(i))"
   ]
  },
  {
   "cell_type": "code",
   "execution_count": 94,
   "id": "0ea552da",
   "metadata": {},
   "outputs": [
    {
     "name": "stdout",
     "output_type": "stream",
     "text": [
      "sqrt 2.23606797749979\n"
     ]
    }
   ],
   "source": [
    "def sqrt_val(x):\n",
    "    x = x**(1/2)\n",
    "    print('sqrt',x)\n",
    "    \n",
    "sqrt_val(5)"
   ]
  },
  {
   "cell_type": "code",
   "execution_count": 95,
   "id": "28f43903",
   "metadata": {},
   "outputs": [
    {
     "name": "stdout",
     "output_type": "stream",
     "text": [
      "sqrt 25\n"
     ]
    }
   ],
   "source": [
    "def sqrt_val(x):\n",
    "    x = x**(2)\n",
    "    print('sqrt',x)\n",
    "    \n",
    "sqrt_val(5)"
   ]
  },
  {
   "cell_type": "code",
   "execution_count": 100,
   "id": "184306db",
   "metadata": {},
   "outputs": [],
   "source": [
    "def sqrt_val(x):\n",
    "    x = x**(2)\n",
    "    return x\n",
    "    \n",
    "sqrt_val(5)\n",
    "\n",
    "def cube_val(x):\n",
    "    x = x**3\n",
    "    return x"
   ]
  },
  {
   "cell_type": "code",
   "execution_count": 101,
   "id": "1c226071",
   "metadata": {},
   "outputs": [
    {
     "data": {
      "text/plain": [
       "[4, 9, 64, 125, 216]"
      ]
     },
     "execution_count": 101,
     "metadata": {},
     "output_type": "execute_result"
    }
   ],
   "source": [
    "a = []\n",
    "\n",
    "for i in range(2,7):\n",
    "    \n",
    "    if i<4:\n",
    "        a.append(sqrt_val(i))\n",
    "    else:\n",
    "        a.append(cube_val(i))\n",
    "        \n",
    "a"
   ]
  },
  {
   "cell_type": "code",
   "execution_count": 102,
   "id": "0f98ca9d",
   "metadata": {},
   "outputs": [
    {
     "data": {
      "text/plain": [
       "62208000"
      ]
     },
     "execution_count": 102,
     "metadata": {},
     "output_type": "execute_result"
    }
   ],
   "source": [
    "x = [4, 9, 64, 125, 216]\n",
    "\n",
    "def prod(y):\n",
    "    product = 1\n",
    "    for i in y:\n",
    "        product *=i\n",
    "    return product\n",
    "\n",
    "prod(x)"
   ]
  },
  {
   "cell_type": "code",
   "execution_count": 103,
   "id": "27c5887b",
   "metadata": {},
   "outputs": [
    {
     "data": {
      "text/plain": [
       "[4, 36, 2304, 288000, 62208000]"
      ]
     },
     "execution_count": 103,
     "metadata": {},
     "output_type": "execute_result"
    }
   ],
   "source": [
    "x = [4, 9, 64, 125, 216]\n",
    "\n",
    "def prod(y):\n",
    "    z = []\n",
    "    product = 1\n",
    "    for i in y:\n",
    "        product *=i\n",
    "        z.append(product)\n",
    "    return z\n",
    "\n",
    "prod(x)"
   ]
  },
  {
   "cell_type": "code",
   "execution_count": 105,
   "id": "67af504b",
   "metadata": {},
   "outputs": [
    {
     "data": {
      "text/plain": [
       "15"
      ]
     },
     "execution_count": 105,
     "metadata": {},
     "output_type": "execute_result"
    }
   ],
   "source": [
    "def arg(*x):\n",
    "    return sum(x)\n",
    "\n",
    "arg(1,2,3,4,5)"
   ]
  },
  {
   "cell_type": "code",
   "execution_count": 108,
   "id": "a015273c",
   "metadata": {},
   "outputs": [
    {
     "name": "stdout",
     "output_type": "stream",
     "text": [
      "value of a: 3\n",
      "value of b: 2\n"
     ]
    },
    {
     "data": {
      "text/plain": [
       "5"
      ]
     },
     "execution_count": 108,
     "metadata": {},
     "output_type": "execute_result"
    }
   ],
   "source": [
    "def arg(a,b):\n",
    "    print('value of a:',a)\n",
    "    print('value of b:',b)\n",
    "    return a+b\n",
    "\n",
    "arg(3,2)"
   ]
  },
  {
   "cell_type": "code",
   "execution_count": 109,
   "id": "3259094a",
   "metadata": {},
   "outputs": [
    {
     "name": "stdout",
     "output_type": "stream",
     "text": [
      "value of a: 2\n",
      "value of b: 3\n"
     ]
    },
    {
     "data": {
      "text/plain": [
       "5"
      ]
     },
     "execution_count": 109,
     "metadata": {},
     "output_type": "execute_result"
    }
   ],
   "source": [
    "def arg(a,b):\n",
    "    print('value of a:',a)\n",
    "    print('value of b:',b)\n",
    "    return a+b\n",
    "\n",
    "arg(b = 3,a = 2)"
   ]
  },
  {
   "cell_type": "code",
   "execution_count": 110,
   "id": "ef9a9f8d",
   "metadata": {},
   "outputs": [
    {
     "name": "stdout",
     "output_type": "stream",
     "text": [
      "value of a: 2\n",
      "value of b: 5\n"
     ]
    },
    {
     "data": {
      "text/plain": [
       "7"
      ]
     },
     "execution_count": 110,
     "metadata": {},
     "output_type": "execute_result"
    }
   ],
   "source": [
    "def arg(a,b=3):\n",
    "    print('value of a:',a)\n",
    "    print('value of b:',b)\n",
    "    return a+b\n",
    "\n",
    "arg(2,5)"
   ]
  },
  {
   "cell_type": "code",
   "execution_count": 111,
   "id": "5fc87870",
   "metadata": {},
   "outputs": [
    {
     "name": "stdout",
     "output_type": "stream",
     "text": [
      "value of a: 2\n",
      "value of b: 3\n"
     ]
    },
    {
     "data": {
      "text/plain": [
       "5"
      ]
     },
     "execution_count": 111,
     "metadata": {},
     "output_type": "execute_result"
    }
   ],
   "source": [
    "def arg(a,b=3):\n",
    "    print('value of a:',a)\n",
    "    print('value of b:',b)\n",
    "    return a+b\n",
    "\n",
    "arg(2)"
   ]
  },
  {
   "cell_type": "code",
   "execution_count": 112,
   "id": "7597de43",
   "metadata": {},
   "outputs": [
    {
     "data": {
      "text/plain": [
       "15"
      ]
     },
     "execution_count": 112,
     "metadata": {},
     "output_type": "execute_result"
    }
   ],
   "source": [
    "def arg(*x):\n",
    "    return sum(x)\n",
    "\n",
    "arg(1,2,3,4,5)"
   ]
  },
  {
   "cell_type": "code",
   "execution_count": 113,
   "id": "941a5a90",
   "metadata": {},
   "outputs": [
    {
     "name": "stdout",
     "output_type": "stream",
     "text": [
      "{'score1': 80, 'score2': 90, 'score3': 50, 'score6': 90, 'score7': 80, 'score8': 50}\n"
     ]
    },
    {
     "data": {
      "text/plain": [
       "440"
      ]
     },
     "execution_count": 113,
     "metadata": {},
     "output_type": "execute_result"
    }
   ],
   "source": [
    "def kwargs(**x):\n",
    "    print(x)\n",
    "    return sum(x.values())\n",
    "\n",
    "kwargs(score1 = 80, score2 = 90, score3 = 50,\n",
    "                 score6 = 90, score7 = 80, score8 = 50)"
   ]
  },
  {
   "cell_type": "code",
   "execution_count": 114,
   "id": "59a75c34",
   "metadata": {},
   "outputs": [
    {
     "name": "stdout",
     "output_type": "stream",
     "text": [
      "{'score1': 80, 'score2': 90, 'score3': 50, 'score6': 90, 'score7': 80, 'score8': 50}\n"
     ]
    },
    {
     "data": {
      "text/plain": [
       "dict_keys(['score1', 'score2', 'score3', 'score6', 'score7', 'score8'])"
      ]
     },
     "execution_count": 114,
     "metadata": {},
     "output_type": "execute_result"
    }
   ],
   "source": [
    "def kwargs(**x):\n",
    "    print(x)\n",
    "    return x.keys()\n",
    "\n",
    "kwargs(score1 = 80, score2 = 90, score3 = 50,\n",
    "                 score6 = 90, score7 = 80, score8 = 50)"
   ]
  },
  {
   "cell_type": "code",
   "execution_count": 115,
   "id": "a7f4618e",
   "metadata": {},
   "outputs": [
    {
     "name": "stdout",
     "output_type": "stream",
     "text": [
      "{'score1': 80, 'score2': 90, 'score3': 50, 'score6': 90, 'score7': 80, 'score8': 50}\n"
     ]
    },
    {
     "data": {
      "text/plain": [
       "dict_items([('score1', 80), ('score2', 90), ('score3', 50), ('score6', 90), ('score7', 80), ('score8', 50)])"
      ]
     },
     "execution_count": 115,
     "metadata": {},
     "output_type": "execute_result"
    }
   ],
   "source": [
    "def kwargs(**x):\n",
    "    print(x)\n",
    "    return x.items()\n",
    "\n",
    "kwargs(score1 = 80, score2 = 90, score3 = 50,\n",
    "                 score6 = 90, score7 = 80, score8 = 50)"
   ]
  },
  {
   "cell_type": "code",
   "execution_count": 116,
   "id": "29e64b4b",
   "metadata": {},
   "outputs": [
    {
     "name": "stdout",
     "output_type": "stream",
     "text": [
      "{'name': 'python', 'year': 2022, 'month': 'july', 'date': 30}\n"
     ]
    },
    {
     "data": {
      "text/plain": [
       "2022"
      ]
     },
     "execution_count": 116,
     "metadata": {},
     "output_type": "execute_result"
    }
   ],
   "source": [
    "def kwargs_func2(**x):\n",
    "    print(x)\n",
    "    return x['year']\n",
    "\n",
    "op2 = kwargs_func2(name = 'python', year = 2022, month = 'july', date = 30)\n",
    "\n",
    "op2"
   ]
  },
  {
   "cell_type": "code",
   "execution_count": 122,
   "id": "bdcf5afb",
   "metadata": {},
   "outputs": [
    {
     "name": "stdout",
     "output_type": "stream",
     "text": [
      "{'text': ['python', 'july', 'DS'], 'number': [2022, 30], 'decimal': [2.5]}\n"
     ]
    }
   ],
   "source": [
    "def identify(**x):\n",
    "    dt = {'text':[],'number':[],'decimal':[]}\n",
    "    \n",
    "    for i in x.values():\n",
    "        if type(i) == str:\n",
    "            dt['text'].append(i)\n",
    "        elif type(i) == int:\n",
    "            dt['number'].append(i)\n",
    "        elif type(i) == float:\n",
    "            dt['decimal'].append(i)\n",
    "    return dt\n",
    "\n",
    "a = identify(name = 'python', year = 2022, month = 'july', date = 30, batch = 'DS', batch_id = 2.5)\n",
    "\n",
    "print(a)"
   ]
  },
  {
   "cell_type": "code",
   "execution_count": 125,
   "id": "b7344469",
   "metadata": {},
   "outputs": [],
   "source": [
    "bal = 1000\n",
    "\n",
    "def companyT1(exp):\n",
    "    bal-=exp\n",
    "    return bal\n",
    "\n",
    "def companyT2(exp):\n",
    "    bal-=exp\n",
    "    return bal"
   ]
  },
  {
   "cell_type": "code",
   "execution_count": 126,
   "id": "cdf27451",
   "metadata": {},
   "outputs": [
    {
     "ename": "UnboundLocalError",
     "evalue": "local variable 'bal' referenced before assignment",
     "output_type": "error",
     "traceback": [
      "\u001b[1;31m---------------------------------------------------------------------------\u001b[0m",
      "\u001b[1;31mUnboundLocalError\u001b[0m                         Traceback (most recent call last)",
      "Input \u001b[1;32mIn [126]\u001b[0m, in \u001b[0;36m<cell line: 1>\u001b[1;34m()\u001b[0m\n\u001b[1;32m----> 1\u001b[0m \u001b[43mcompanyT1\u001b[49m\u001b[43m(\u001b[49m\u001b[38;5;241;43m500\u001b[39;49m\u001b[43m)\u001b[49m\n",
      "Input \u001b[1;32mIn [125]\u001b[0m, in \u001b[0;36mcompanyT1\u001b[1;34m(exp)\u001b[0m\n\u001b[0;32m      3\u001b[0m \u001b[38;5;28;01mdef\u001b[39;00m \u001b[38;5;21mcompanyT1\u001b[39m(exp):\n\u001b[1;32m----> 4\u001b[0m     bal\u001b[38;5;241m-\u001b[39m\u001b[38;5;241m=\u001b[39mexp\n\u001b[0;32m      5\u001b[0m     \u001b[38;5;28;01mreturn\u001b[39;00m bal\n",
      "\u001b[1;31mUnboundLocalError\u001b[0m: local variable 'bal' referenced before assignment"
     ]
    }
   ],
   "source": [
    "companyT1(500)"
   ]
  },
  {
   "cell_type": "code",
   "execution_count": 141,
   "id": "e470fc0c",
   "metadata": {},
   "outputs": [],
   "source": [
    "bal = 1000\n",
    "\n",
    "def companyT1(exp):\n",
    "    global bal\n",
    "    bal-=exp\n",
    "    return bal\n",
    "\n",
    "def companyT2(exp):\n",
    "    global bal\n",
    "    bal-=exp\n",
    "    return bal"
   ]
  },
  {
   "cell_type": "code",
   "execution_count": 142,
   "id": "4d35afae",
   "metadata": {},
   "outputs": [
    {
     "data": {
      "text/plain": [
       "800"
      ]
     },
     "execution_count": 142,
     "metadata": {},
     "output_type": "execute_result"
    }
   ],
   "source": [
    "companyT1(200)"
   ]
  },
  {
   "cell_type": "code",
   "execution_count": 143,
   "id": "f9c9c653",
   "metadata": {},
   "outputs": [
    {
     "data": {
      "text/plain": [
       "500"
      ]
     },
     "execution_count": 143,
     "metadata": {},
     "output_type": "execute_result"
    }
   ],
   "source": [
    "companyT2(300)"
   ]
  },
  {
   "cell_type": "code",
   "execution_count": 145,
   "id": "d1919201",
   "metadata": {},
   "outputs": [
    {
     "name": "stdout",
     "output_type": "stream",
     "text": [
      "start balance 1000\n"
     ]
    }
   ],
   "source": [
    "balanceA = 1000\n",
    "print('start balance', balanceA)\n",
    "\n",
    "def company_T1(exp=1000):\n",
    "    global balanceA\n",
    "    if balanceA<=exp:\n",
    "        print('un-successful T1')\n",
    "    else: \n",
    "        balanceA-=exp\n",
    "    print('remaining bal 1', balanceA)\n",
    "    return balanceA\n",
    "\n",
    "def company_T2(exp):\n",
    "    global balanceA\n",
    "    if balanceA<=exp:\n",
    "        print('un-successful T2')\n",
    "    else: \n",
    "        balanceA-=exp\n",
    "        \n",
    "    print('remaining bal 2', balanceA)\n",
    "    return balanceA"
   ]
  },
  {
   "cell_type": "code",
   "execution_count": 150,
   "id": "726701b9",
   "metadata": {},
   "outputs": [
    {
     "name": "stdout",
     "output_type": "stream",
     "text": [
      "remaining bal 1 100\n",
      "100\n"
     ]
    }
   ],
   "source": [
    "print(company_T1(700))"
   ]
  },
  {
   "cell_type": "code",
   "execution_count": 151,
   "id": "b09fd7b4",
   "metadata": {},
   "outputs": [
    {
     "name": "stdout",
     "output_type": "stream",
     "text": [
      "un-successful T2\n",
      "remaining bal 2 100\n",
      "100\n"
     ]
    }
   ],
   "source": [
    "print(company_T2(200))"
   ]
  },
  {
   "cell_type": "code",
   "execution_count": 153,
   "id": "87c481fc",
   "metadata": {},
   "outputs": [
    {
     "name": "stdout",
     "output_type": "stream",
     "text": [
      "198\n"
     ]
    }
   ],
   "source": [
    "a = lambda x: 2*x\n",
    "\n",
    "b = a(99)\n",
    "\n",
    "print(b)"
   ]
  },
  {
   "cell_type": "code",
   "execution_count": 154,
   "id": "bc739808",
   "metadata": {},
   "outputs": [
    {
     "name": "stdout",
     "output_type": "stream",
     "text": [
      "5\n"
     ]
    }
   ],
   "source": [
    "a = lambda x,y: x+y\n",
    "\n",
    "b = a(2,3)\n",
    "\n",
    "print(b)"
   ]
  },
  {
   "cell_type": "code",
   "execution_count": 156,
   "id": "fcc18145",
   "metadata": {},
   "outputs": [
    {
     "name": "stdout",
     "output_type": "stream",
     "text": [
      "5\n"
     ]
    }
   ],
   "source": [
    "a = lambda x,y: x if x>y else y\n",
    "\n",
    "b = a(4,5)\n",
    "\n",
    "print(b)"
   ]
  },
  {
   "cell_type": "code",
   "execution_count": 164,
   "id": "0c2beaba",
   "metadata": {},
   "outputs": [
    {
     "name": "stdout",
     "output_type": "stream",
     "text": [
      "[16, 9, 4, 1]\n"
     ]
    }
   ],
   "source": [
    "n = [4,3,2,1]\n",
    "\n",
    "a = list(map(lambda x: x**2,n))\n",
    "\n",
    "\n",
    "print(a)"
   ]
  },
  {
   "cell_type": "code",
   "execution_count": 165,
   "id": "7795717d",
   "metadata": {},
   "outputs": [
    {
     "name": "stdout",
     "output_type": "stream",
     "text": [
      "[16, 9, 4, 1]\n"
     ]
    }
   ],
   "source": [
    "a = [x**2 for x in n]\n",
    "\n",
    "print(a)"
   ]
  },
  {
   "cell_type": "code",
   "execution_count": 166,
   "id": "07d316ee",
   "metadata": {},
   "outputs": [
    {
     "name": "stdout",
     "output_type": "stream",
     "text": [
      "[True, True, False, False]\n"
     ]
    }
   ],
   "source": [
    "n = [4,3,2,1]\n",
    "\n",
    "a = list(map(lambda x: x>2,n))\n",
    "\n",
    "\n",
    "print(a)"
   ]
  },
  {
   "cell_type": "code",
   "execution_count": 168,
   "id": "f2658504",
   "metadata": {},
   "outputs": [
    {
     "name": "stdout",
     "output_type": "stream",
     "text": [
      "[4, 3]\n"
     ]
    }
   ],
   "source": [
    "n = [4,3,2,1]\n",
    "\n",
    "a = list(filter(lambda x: x>2,n))\n",
    "\n",
    "print(a)"
   ]
  },
  {
   "cell_type": "code",
   "execution_count": 170,
   "id": "8943071b",
   "metadata": {},
   "outputs": [
    {
     "name": "stdout",
     "output_type": "stream",
     "text": [
      "[4, 3]\n"
     ]
    }
   ],
   "source": [
    "a = [x for x in n if x>2]\n",
    "\n",
    "print(a)"
   ]
  },
  {
   "cell_type": "code",
   "execution_count": 174,
   "id": "97a396f8",
   "metadata": {},
   "outputs": [
    {
     "data": {
      "text/plain": [
       "24"
      ]
     },
     "execution_count": 174,
     "metadata": {},
     "output_type": "execute_result"
    }
   ],
   "source": [
    "def multi(lst1):\n",
    "    product = lst1[0]\n",
    "    for i in range(1,len(lst1)):\n",
    "        product *=lst1[i]\n",
    "    return product\n",
    "\n",
    "multi([4,3,2,1])"
   ]
  },
  {
   "cell_type": "code",
   "execution_count": 173,
   "id": "22b6919f",
   "metadata": {},
   "outputs": [
    {
     "data": {
      "text/plain": [
       "4"
      ]
     },
     "execution_count": 173,
     "metadata": {},
     "output_type": "execute_result"
    }
   ],
   "source": [
    "a = [4,3,2,1]\n",
    "\n",
    "len(a)"
   ]
  },
  {
   "cell_type": "code",
   "execution_count": 179,
   "id": "5b298379",
   "metadata": {},
   "outputs": [
    {
     "data": {
      "text/plain": [
       "24"
      ]
     },
     "execution_count": 179,
     "metadata": {},
     "output_type": "execute_result"
    }
   ],
   "source": [
    "from functools import reduce\n",
    "\n",
    "n = [4,3,2,1]\n",
    "\n",
    "a = reduce(lambda x,y:x*y,n)\n",
    "\n",
    "a"
   ]
  },
  {
   "cell_type": "code",
   "execution_count": null,
   "id": "b43013a2",
   "metadata": {},
   "outputs": [],
   "source": []
  }
 ],
 "metadata": {
  "kernelspec": {
   "display_name": "Python 3 (ipykernel)",
   "language": "python",
   "name": "python3"
  },
  "language_info": {
   "codemirror_mode": {
    "name": "ipython",
    "version": 3
   },
   "file_extension": ".py",
   "mimetype": "text/x-python",
   "name": "python",
   "nbconvert_exporter": "python",
   "pygments_lexer": "ipython3",
   "version": "3.9.12"
  }
 },
 "nbformat": 4,
 "nbformat_minor": 5
}
