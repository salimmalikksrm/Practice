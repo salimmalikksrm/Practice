{
 "cells": [
  {
   "cell_type": "code",
   "execution_count": 1,
   "id": "b905e284",
   "metadata": {},
   "outputs": [],
   "source": [
    "#Data types\n",
    "\n",
    "i = 10\n",
    "f = 10.9\n",
    "s = 'python class'\n",
    "b = True"
   ]
  },
  {
   "cell_type": "code",
   "execution_count": 2,
   "id": "07070552",
   "metadata": {},
   "outputs": [
    {
     "name": "stdout",
     "output_type": "stream",
     "text": [
      "20.9\n"
     ]
    }
   ],
   "source": [
    "print(i+f)"
   ]
  },
  {
   "cell_type": "code",
   "execution_count": 3,
   "id": "c2cc75b8",
   "metadata": {},
   "outputs": [
    {
     "name": "stdout",
     "output_type": "stream",
     "text": [
      "<class 'float'>\n",
      "<class 'int'>\n"
     ]
    }
   ],
   "source": [
    "f = 10.9\n",
    "\n",
    "print(type(f))\n",
    "\n",
    "f = int(f)\n",
    "\n",
    "print(type(f))"
   ]
  },
  {
   "cell_type": "code",
   "execution_count": 4,
   "id": "ca4bc7eb",
   "metadata": {},
   "outputs": [
    {
     "name": "stdout",
     "output_type": "stream",
     "text": [
      "<class 'int'>\n",
      "<class 'float'>\n"
     ]
    }
   ],
   "source": [
    "i = 10\n",
    "\n",
    "print(type(i))\n",
    "\n",
    "i = float(i)\n",
    "\n",
    "print(type(i))"
   ]
  },
  {
   "cell_type": "code",
   "execution_count": 5,
   "id": "e46609b0",
   "metadata": {},
   "outputs": [
    {
     "name": "stdout",
     "output_type": "stream",
     "text": [
      "<class 'str'>\n",
      "<class 'int'>\n"
     ]
    }
   ],
   "source": [
    "s = '98'\n",
    "\n",
    "print(type(s))\n",
    "\n",
    "s = int(s)\n",
    "\n",
    "print(type(s))"
   ]
  },
  {
   "cell_type": "code",
   "execution_count": 8,
   "id": "7c36c13f",
   "metadata": {},
   "outputs": [
    {
     "name": "stdout",
     "output_type": "stream",
     "text": [
      "<class 'str'>\n"
     ]
    }
   ],
   "source": [
    "s = 'salim'\n",
    "\n",
    "print(type(s))\n",
    "\n",
    "# s = int(s)  #will get error\n",
    "\n"
   ]
  },
  {
   "cell_type": "code",
   "execution_count": 10,
   "id": "96ab54db",
   "metadata": {},
   "outputs": [
    {
     "name": "stdout",
     "output_type": "stream",
     "text": [
      "<class 'bool'>\n",
      "<class 'int'>\n",
      "1\n"
     ]
    }
   ],
   "source": [
    "a = True\n",
    "\n",
    "print(type(a))\n",
    "\n",
    "a = int(a)\n",
    "\n",
    "print(type(a))\n",
    "\n",
    "print(a)"
   ]
  },
  {
   "cell_type": "code",
   "execution_count": 11,
   "id": "49c3ce0d",
   "metadata": {},
   "outputs": [
    {
     "name": "stdout",
     "output_type": "stream",
     "text": [
      "<class 'bool'>\n",
      "<class 'int'>\n",
      "0\n"
     ]
    }
   ],
   "source": [
    "a = False\n",
    "\n",
    "print(type(a))\n",
    "\n",
    "a = int(a)\n",
    "\n",
    "print(type(a))\n",
    "\n",
    "print(a)"
   ]
  },
  {
   "cell_type": "code",
   "execution_count": 12,
   "id": "af4fea64",
   "metadata": {},
   "outputs": [
    {
     "name": "stdout",
     "output_type": "stream",
     "text": [
      "<class 'bool'>\n",
      "<class 'float'>\n",
      "0.0\n"
     ]
    }
   ],
   "source": [
    "a = False\n",
    "\n",
    "print(type(a))\n",
    "\n",
    "a = float(a)\n",
    "\n",
    "print(type(a))\n",
    "\n",
    "print(a)"
   ]
  },
  {
   "cell_type": "code",
   "execution_count": 13,
   "id": "5ae4cb4f",
   "metadata": {},
   "outputs": [
    {
     "name": "stdout",
     "output_type": "stream",
     "text": [
      "101\n"
     ]
    }
   ],
   "source": [
    "x = 100\n",
    "\n",
    "x += 1  #x = x + 1\n",
    "\n",
    "print(x)"
   ]
  },
  {
   "cell_type": "code",
   "execution_count": 14,
   "id": "9b1ddc8f",
   "metadata": {},
   "outputs": [
    {
     "name": "stdout",
     "output_type": "stream",
     "text": [
      "4.3478260869565215\n"
     ]
    }
   ],
   "source": [
    "x = 100\n",
    "\n",
    "x /= 23\n",
    "\n",
    "print(x)"
   ]
  },
  {
   "cell_type": "code",
   "execution_count": 15,
   "id": "2d860c95",
   "metadata": {},
   "outputs": [
    {
     "name": "stdout",
     "output_type": "stream",
     "text": [
      "4\n"
     ]
    }
   ],
   "source": [
    "x = 100\n",
    "\n",
    "x //= 23\n",
    "\n",
    "print(x)"
   ]
  },
  {
   "cell_type": "code",
   "execution_count": 16,
   "id": "226144ad",
   "metadata": {},
   "outputs": [
    {
     "name": "stdout",
     "output_type": "stream",
     "text": [
      "8\n"
     ]
    }
   ],
   "source": [
    "x = 100\n",
    "\n",
    "x %= 23\n",
    "\n",
    "print(x)"
   ]
  },
  {
   "cell_type": "code",
   "execution_count": 23,
   "id": "7c90dc32",
   "metadata": {},
   "outputs": [
    {
     "name": "stdout",
     "output_type": "stream",
     "text": [
      "True\n",
      "False\n",
      "True\n",
      "True\n",
      "True\n",
      "False\n"
     ]
    }
   ],
   "source": [
    "a = 100\n",
    "\n",
    "b = 100\n",
    "\n",
    "c = 200\n",
    "\n",
    "d = 23\n",
    "\n",
    "e = 45\n",
    "\n",
    "print(a == b)\n",
    "\n",
    "print(a > c)\n",
    "print(a < c)\n",
    "\n",
    "print(a <= b)\n",
    "print(a >= b)\n",
    "\n",
    "print( a != b)"
   ]
  },
  {
   "cell_type": "code",
   "execution_count": 26,
   "id": "bfe8af9e",
   "metadata": {},
   "outputs": [
    {
     "name": "stdout",
     "output_type": "stream",
     "text": [
      "207\n",
      "126\n",
      "135\n",
      "64\n",
      "532\n"
     ]
    }
   ],
   "source": [
    "a = 69*3\n",
    "\n",
    "b = 42*3\n",
    "\n",
    "c = 45*3\n",
    "\n",
    "d = 64*1\n",
    "\n",
    "print(a)\n",
    "print(b)\n",
    "print(c)\n",
    "print(d)\n",
    "\n",
    "print(a+b+c+d)"
   ]
  },
  {
   "cell_type": "code",
   "execution_count": 28,
   "id": "a28778a5",
   "metadata": {},
   "outputs": [
    {
     "name": "stdout",
     "output_type": "stream",
     "text": [
      "586\n"
     ]
    }
   ],
   "source": [
    "a = 72*3\n",
    "\n",
    "b = 50*3\n",
    "\n",
    "c = 50*3\n",
    "\n",
    "d = 70\n",
    "\n",
    "print(a+b+c+d)"
   ]
  },
  {
   "cell_type": "code",
   "execution_count": 31,
   "id": "62a7277b",
   "metadata": {},
   "outputs": [
    {
     "data": {
      "text/plain": [
       "False"
      ]
     },
     "execution_count": 31,
     "metadata": {},
     "output_type": "execute_result"
    }
   ],
   "source": [
    "(1 == 2) and (1 == 1)\n",
    "\n",
    "(1 == 2) & (1 == 1)"
   ]
  },
  {
   "cell_type": "code",
   "execution_count": 32,
   "id": "dd31e34d",
   "metadata": {},
   "outputs": [
    {
     "data": {
      "text/plain": [
       "True"
      ]
     },
     "execution_count": 32,
     "metadata": {},
     "output_type": "execute_result"
    }
   ],
   "source": [
    "(1 == 2) or (1 == 1)\n",
    "\n",
    "(1 == 2) | (1 == 1)"
   ]
  },
  {
   "cell_type": "code",
   "execution_count": 33,
   "id": "d16c98fc",
   "metadata": {},
   "outputs": [
    {
     "data": {
      "text/plain": [
       "False"
      ]
     },
     "execution_count": 33,
     "metadata": {},
     "output_type": "execute_result"
    }
   ],
   "source": [
    "1>2"
   ]
  },
  {
   "cell_type": "code",
   "execution_count": 34,
   "id": "81a4d25e",
   "metadata": {},
   "outputs": [
    {
     "data": {
      "text/plain": [
       "True"
      ]
     },
     "execution_count": 34,
     "metadata": {},
     "output_type": "execute_result"
    }
   ],
   "source": [
    "2<3"
   ]
  },
  {
   "cell_type": "code",
   "execution_count": 35,
   "id": "a57dd784",
   "metadata": {},
   "outputs": [
    {
     "data": {
      "text/plain": [
       "False"
      ]
     },
     "execution_count": 35,
     "metadata": {},
     "output_type": "execute_result"
    }
   ],
   "source": [
    "(1 > 2) and (2 < 3)"
   ]
  },
  {
   "cell_type": "code",
   "execution_count": 36,
   "id": "1fe9746b",
   "metadata": {},
   "outputs": [
    {
     "data": {
      "text/plain": [
       "True"
      ]
     },
     "execution_count": 36,
     "metadata": {},
     "output_type": "execute_result"
    }
   ],
   "source": [
    "(1 > 2) or (2 < 3)"
   ]
  },
  {
   "cell_type": "code",
   "execution_count": 39,
   "id": "0fd631dd",
   "metadata": {},
   "outputs": [
    {
     "data": {
      "text/plain": [
       "False"
      ]
     },
     "execution_count": 39,
     "metadata": {},
     "output_type": "execute_result"
    }
   ],
   "source": [
    "a = 's'\n",
    "\n",
    "b = 's'\n",
    "\n",
    "a is b\n",
    "a is not b"
   ]
  },
  {
   "cell_type": "code",
   "execution_count": 42,
   "id": "36e2d183",
   "metadata": {},
   "outputs": [
    {
     "name": "stdout",
     "output_type": "stream",
     "text": [
      "False\n",
      "True\n"
     ]
    }
   ],
   "source": [
    "a = 'Hello World'\n",
    "\n",
    "print('w' in a)\n",
    "\n",
    "print('H' in a)"
   ]
  },
  {
   "cell_type": "code",
   "execution_count": 44,
   "id": "521fbcca",
   "metadata": {},
   "outputs": [
    {
     "name": "stdout",
     "output_type": "stream",
     "text": [
      "True\n",
      "False\n"
     ]
    }
   ],
   "source": [
    "a = 'Hello World'\n",
    "\n",
    "print('w' not in a)\n",
    "\n",
    "print('H' not in a)"
   ]
  },
  {
   "cell_type": "markdown",
   "id": "949c3f94",
   "metadata": {},
   "source": [
    "# List"
   ]
  },
  {
   "cell_type": "code",
   "execution_count": 46,
   "id": "8f18f744",
   "metadata": {},
   "outputs": [
    {
     "name": "stdout",
     "output_type": "stream",
     "text": [
      "['lovely', 'parth', 'rohit', 'ganesh', 'kalkidan', 10.4, True, 52, -521]\n"
     ]
    }
   ],
   "source": [
    "names = ['lovely','parth','rohit','ganesh','kalkidan', 10.4, True, 52 , -521]\n",
    "\n",
    "print(names)"
   ]
  },
  {
   "cell_type": "code",
   "execution_count": 47,
   "id": "0b0f4528",
   "metadata": {},
   "outputs": [
    {
     "data": {
      "text/plain": [
       "list"
      ]
     },
     "execution_count": 47,
     "metadata": {},
     "output_type": "execute_result"
    }
   ],
   "source": [
    "type(names)"
   ]
  },
  {
   "cell_type": "code",
   "execution_count": 48,
   "id": "6e562ce6",
   "metadata": {},
   "outputs": [
    {
     "data": {
      "text/plain": [
       "9"
      ]
     },
     "execution_count": 48,
     "metadata": {},
     "output_type": "execute_result"
    }
   ],
   "source": [
    "len(names)"
   ]
  },
  {
   "cell_type": "code",
   "execution_count": 49,
   "id": "a3d284b5",
   "metadata": {},
   "outputs": [
    {
     "data": {
      "text/plain": [
       "'lovely'"
      ]
     },
     "execution_count": 49,
     "metadata": {},
     "output_type": "execute_result"
    }
   ],
   "source": [
    "names[0]"
   ]
  },
  {
   "cell_type": "code",
   "execution_count": 50,
   "id": "8f54502a",
   "metadata": {},
   "outputs": [
    {
     "data": {
      "text/plain": [
       "'parth'"
      ]
     },
     "execution_count": 50,
     "metadata": {},
     "output_type": "execute_result"
    }
   ],
   "source": [
    "names[1]"
   ]
  },
  {
   "cell_type": "code",
   "execution_count": 51,
   "id": "268ef7b1",
   "metadata": {},
   "outputs": [
    {
     "data": {
      "text/plain": [
       "-521"
      ]
     },
     "execution_count": 51,
     "metadata": {},
     "output_type": "execute_result"
    }
   ],
   "source": [
    "names[-1]"
   ]
  },
  {
   "cell_type": "code",
   "execution_count": 54,
   "id": "f29f8c92",
   "metadata": {},
   "outputs": [
    {
     "name": "stdout",
     "output_type": "stream",
     "text": [
      "['lovely', 'parth', 'rohit', 'ganesh', 'kalkidan', 10.4] ['kalkidan', 10.4, True, 52]\n"
     ]
    }
   ],
   "source": [
    "#sclicing\n",
    "\n",
    "print(names[0:6],\n",
    "names[-5:-1])"
   ]
  },
  {
   "cell_type": "code",
   "execution_count": 55,
   "id": "6e0767ac",
   "metadata": {},
   "outputs": [
    {
     "data": {
      "text/plain": [
       "[10.4, True, 52, -521]"
      ]
     },
     "execution_count": 55,
     "metadata": {},
     "output_type": "execute_result"
    }
   ],
   "source": [
    "names[5:]"
   ]
  },
  {
   "cell_type": "code",
   "execution_count": 56,
   "id": "8ff5a3df",
   "metadata": {},
   "outputs": [
    {
     "data": {
      "text/plain": [
       "['lovely', 'parth', 'rohit', 'ganesh', 'kalkidan', 10.4]"
      ]
     },
     "execution_count": 56,
     "metadata": {},
     "output_type": "execute_result"
    }
   ],
   "source": [
    "names[:-3]"
   ]
  },
  {
   "cell_type": "code",
   "execution_count": 62,
   "id": "505785e9",
   "metadata": {},
   "outputs": [
    {
     "name": "stdout",
     "output_type": "stream",
     "text": [
      "['lovely', 'parth', 'rohit', 'ganesh', 'kalkidan', 10.4, True, 52, -521]\n",
      "['lovely', 'parth', 'rohit', 'ganesh', 'kalkidan', 10.4, True, 52, -521]\n"
     ]
    }
   ],
   "source": [
    "print(names[0:])\n",
    "print(names[:])"
   ]
  },
  {
   "cell_type": "code",
   "execution_count": 65,
   "id": "fc85b0e2",
   "metadata": {},
   "outputs": [
    {
     "data": {
      "text/plain": [
       "['lovely', 'rohit', 'kalkidan', True]"
      ]
     },
     "execution_count": 65,
     "metadata": {},
     "output_type": "execute_result"
    }
   ],
   "source": [
    "names[0:7:2]"
   ]
  },
  {
   "cell_type": "code",
   "execution_count": 66,
   "id": "c5ef429a",
   "metadata": {},
   "outputs": [
    {
     "data": {
      "text/plain": [
       "[-521, 52, True, 10.4, 'kalkidan', 'ganesh', 'rohit', 'parth', 'lovely']"
      ]
     },
     "execution_count": 66,
     "metadata": {},
     "output_type": "execute_result"
    }
   ],
   "source": [
    "names[::-1]"
   ]
  },
  {
   "cell_type": "code",
   "execution_count": 67,
   "id": "35fb7a0f",
   "metadata": {},
   "outputs": [
    {
     "data": {
      "text/plain": [
       "[]"
      ]
     },
     "execution_count": 67,
     "metadata": {},
     "output_type": "execute_result"
    }
   ],
   "source": [
    "names[-2:-6]"
   ]
  },
  {
   "cell_type": "code",
   "execution_count": 68,
   "id": "57c8600a",
   "metadata": {},
   "outputs": [
    {
     "data": {
      "text/plain": [
       "['ganesh', 'kalkidan', 10.4, True, 52]"
      ]
     },
     "execution_count": 68,
     "metadata": {},
     "output_type": "execute_result"
    }
   ],
   "source": [
    "names[-6:-1]"
   ]
  },
  {
   "cell_type": "code",
   "execution_count": 69,
   "id": "3965fcef",
   "metadata": {},
   "outputs": [
    {
     "data": {
      "text/plain": [
       "'parth ganesh'"
      ]
     },
     "execution_count": 69,
     "metadata": {},
     "output_type": "execute_result"
    }
   ],
   "source": [
    "names[1]+' '+ names[3]"
   ]
  },
  {
   "cell_type": "code",
   "execution_count": 74,
   "id": "f4607f6e",
   "metadata": {},
   "outputs": [
    {
     "data": {
      "text/plain": [
       "[1, 3, 4, 5]"
      ]
     },
     "execution_count": 74,
     "metadata": {},
     "output_type": "execute_result"
    }
   ],
   "source": [
    "a=[1,3,4,5,6,7]\n",
    "\n",
    "a[2:]\n",
    "\n",
    "a[:4]\n",
    "\n",
    "a[:-2]\n",
    "\n",
    "a[-3:]\n",
    "\n",
    "a[:4]"
   ]
  },
  {
   "cell_type": "code",
   "execution_count": 75,
   "id": "1f7541ed",
   "metadata": {},
   "outputs": [],
   "source": [
    "new_list = names[0:5] + names[7:9] + ['new','values'] + ['not a list'] + [10]"
   ]
  },
  {
   "cell_type": "code",
   "execution_count": 78,
   "id": "94d99cb9",
   "metadata": {},
   "outputs": [],
   "source": [
    "new_list = new_list + [10]"
   ]
  },
  {
   "cell_type": "code",
   "execution_count": 79,
   "id": "6f7895a2",
   "metadata": {},
   "outputs": [
    {
     "data": {
      "text/plain": [
       "['lovely',\n",
       " 'parth',\n",
       " 'rohit',\n",
       " 'ganesh',\n",
       " 'kalkidan',\n",
       " 52,\n",
       " -521,\n",
       " 'new',\n",
       " 'values',\n",
       " 'not a list',\n",
       " 10,\n",
       " 10]"
      ]
     },
     "execution_count": 79,
     "metadata": {},
     "output_type": "execute_result"
    }
   ],
   "source": [
    "new_list"
   ]
  },
  {
   "cell_type": "code",
   "execution_count": 81,
   "id": "d4e445f7",
   "metadata": {},
   "outputs": [
    {
     "data": {
      "text/plain": [
       "['lovely',\n",
       " 'parth',\n",
       " 'rohit',\n",
       " 'ganesh',\n",
       " 'kalkidan',\n",
       " 5000,\n",
       " -521,\n",
       " 'new',\n",
       " 'values',\n",
       " 'not a list',\n",
       " 10,\n",
       " 10]"
      ]
     },
     "execution_count": 81,
     "metadata": {},
     "output_type": "execute_result"
    }
   ],
   "source": [
    "new_list[5] = 5000\n",
    "\n",
    "new_list"
   ]
  },
  {
   "cell_type": "code",
   "execution_count": 82,
   "id": "5934aff5",
   "metadata": {},
   "outputs": [],
   "source": [
    "new_list[1:3] = 'abc','pqr'"
   ]
  },
  {
   "cell_type": "code",
   "execution_count": 83,
   "id": "16bab381",
   "metadata": {},
   "outputs": [
    {
     "data": {
      "text/plain": [
       "['lovely',\n",
       " 'abc',\n",
       " 'pqr',\n",
       " 'ganesh',\n",
       " 'kalkidan',\n",
       " 5000,\n",
       " -521,\n",
       " 'new',\n",
       " 'values',\n",
       " 'not a list',\n",
       " 10,\n",
       " 10]"
      ]
     },
     "execution_count": 83,
     "metadata": {},
     "output_type": "execute_result"
    }
   ],
   "source": [
    "new_list"
   ]
  },
  {
   "cell_type": "code",
   "execution_count": 84,
   "id": "fe7c3e01",
   "metadata": {},
   "outputs": [
    {
     "data": {
      "text/plain": [
       "5"
      ]
     },
     "execution_count": 84,
     "metadata": {},
     "output_type": "execute_result"
    }
   ],
   "source": [
    "new_list.index(5000)"
   ]
  },
  {
   "cell_type": "code",
   "execution_count": 85,
   "id": "2f7b6167",
   "metadata": {},
   "outputs": [
    {
     "data": {
      "text/plain": [
       "6"
      ]
     },
     "execution_count": 85,
     "metadata": {},
     "output_type": "execute_result"
    }
   ],
   "source": [
    "new_list.index(-521)"
   ]
  },
  {
   "cell_type": "code",
   "execution_count": 87,
   "id": "2334efaa",
   "metadata": {},
   "outputs": [
    {
     "data": {
      "text/plain": [
       "['lovely',\n",
       " 'love',\n",
       " 'abc',\n",
       " 'pqr',\n",
       " 'ganesh',\n",
       " 'kalkidan',\n",
       " 5000,\n",
       " -521,\n",
       " 'new',\n",
       " 'values',\n",
       " 'not a list',\n",
       " 10,\n",
       " 10]"
      ]
     },
     "execution_count": 87,
     "metadata": {},
     "output_type": "execute_result"
    }
   ],
   "source": [
    "new_list.insert(1,'love')\n",
    "\n",
    "new_list"
   ]
  },
  {
   "cell_type": "code",
   "execution_count": 89,
   "id": "53387e49",
   "metadata": {},
   "outputs": [
    {
     "data": {
      "text/plain": [
       "['lovely',\n",
       " 'abc',\n",
       " 'pqr',\n",
       " 'ganesh',\n",
       " 'kalkidan',\n",
       " 5000,\n",
       " -521,\n",
       " 'new',\n",
       " 'values',\n",
       " 'not a list',\n",
       " 10,\n",
       " 10]"
      ]
     },
     "execution_count": 89,
     "metadata": {},
     "output_type": "execute_result"
    }
   ],
   "source": [
    "new_list.remove('love')\n",
    "new_list"
   ]
  },
  {
   "cell_type": "code",
   "execution_count": 90,
   "id": "135e5144",
   "metadata": {},
   "outputs": [
    {
     "data": {
      "text/plain": [
       "['lovely',\n",
       " 'abc',\n",
       " 'pqr',\n",
       " 'ganesh',\n",
       " 'kalkidan',\n",
       " 5000,\n",
       " -521,\n",
       " 'new',\n",
       " 'values',\n",
       " 'not a list',\n",
       " 10]"
      ]
     },
     "execution_count": 90,
     "metadata": {},
     "output_type": "execute_result"
    }
   ],
   "source": [
    "new_list.pop()\n",
    "\n",
    "new_list"
   ]
  },
  {
   "cell_type": "code",
   "execution_count": 91,
   "id": "84030fc9",
   "metadata": {},
   "outputs": [
    {
     "data": {
      "text/plain": [
       "['lovely',\n",
       " 'abc',\n",
       " 'ganesh',\n",
       " 'kalkidan',\n",
       " 5000,\n",
       " -521,\n",
       " 'new',\n",
       " 'values',\n",
       " 'not a list',\n",
       " 10]"
      ]
     },
     "execution_count": 91,
     "metadata": {},
     "output_type": "execute_result"
    }
   ],
   "source": [
    "new_list.pop(2)\n",
    "\n",
    "new_list"
   ]
  },
  {
   "cell_type": "code",
   "execution_count": 92,
   "id": "eecd354e",
   "metadata": {},
   "outputs": [
    {
     "data": {
      "text/plain": [
       "['lovely',\n",
       " 'abc',\n",
       " 'ganesh',\n",
       " 'kalkidan',\n",
       " 5000,\n",
       " -521,\n",
       " 'new',\n",
       " 'values',\n",
       " 'not a list']"
      ]
     },
     "execution_count": 92,
     "metadata": {},
     "output_type": "execute_result"
    }
   ],
   "source": [
    "new_list.pop(len(new_list)-1)\n",
    "\n",
    "new_list"
   ]
  },
  {
   "cell_type": "code",
   "execution_count": 93,
   "id": "64f44366",
   "metadata": {},
   "outputs": [
    {
     "name": "stdout",
     "output_type": "stream",
     "text": [
      "[10, 12, 13, 34, 56, 43]\n"
     ]
    }
   ],
   "source": [
    "l1 = [10,12,13]\n",
    "\n",
    "l2 = [34,56,43]\n",
    "\n",
    "l1.extend(l2)\n",
    "\n",
    "print(l1)"
   ]
  },
  {
   "cell_type": "code",
   "execution_count": 95,
   "id": "df6743e1",
   "metadata": {},
   "outputs": [
    {
     "name": "stdout",
     "output_type": "stream",
     "text": [
      "hello salim\n",
      "hello harry\n",
      "hello suri\n",
      "hello siva\n"
     ]
    }
   ],
   "source": [
    "lst = ['salim','harry','suri','siva']\n",
    "\n",
    "for i in lst:\n",
    "    print('hello', i)"
   ]
  },
  {
   "cell_type": "code",
   "execution_count": 97,
   "id": "950abdad",
   "metadata": {},
   "outputs": [
    {
     "name": "stdout",
     "output_type": "stream",
     "text": [
      "0 10\n",
      "1 12\n",
      "2 13\n"
     ]
    }
   ],
   "source": [
    "l1 = [10,12,13]\n",
    "\n",
    "for index,value in enumerate(l1):\n",
    "    print(index,value)"
   ]
  },
  {
   "cell_type": "code",
   "execution_count": 98,
   "id": "7733b8b1",
   "metadata": {},
   "outputs": [
    {
     "name": "stdout",
     "output_type": "stream",
     "text": [
      "0 s\n",
      "1 a\n",
      "2 l\n",
      "3 i\n",
      "4 m\n",
      "5  \n",
      "6 m\n",
      "7 a\n",
      "8 l\n",
      "9 i\n",
      "10 k\n"
     ]
    }
   ],
   "source": [
    "for i,v in enumerate('salim malik'):\n",
    "    print(i,v)"
   ]
  },
  {
   "cell_type": "code",
   "execution_count": null,
   "id": "37271678",
   "metadata": {},
   "outputs": [],
   "source": []
  }
 ],
 "metadata": {
  "kernelspec": {
   "display_name": "Python 3 (ipykernel)",
   "language": "python",
   "name": "python3"
  },
  "language_info": {
   "codemirror_mode": {
    "name": "ipython",
    "version": 3
   },
   "file_extension": ".py",
   "mimetype": "text/x-python",
   "name": "python",
   "nbconvert_exporter": "python",
   "pygments_lexer": "ipython3",
   "version": "3.9.12"
  }
 },
 "nbformat": 4,
 "nbformat_minor": 5
}
